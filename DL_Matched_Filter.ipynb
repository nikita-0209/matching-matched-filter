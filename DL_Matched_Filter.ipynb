{
  "nbformat": 4,
  "nbformat_minor": 0,
  "metadata": {
    "colab": {
      "name": "DL: Matched Filter.ipynb",
      "provenance": [],
      "collapsed_sections": [],
      "toc_visible": true,
      "include_colab_link": true
    },
    "kernelspec": {
      "name": "python3",
      "display_name": "Python 3"
    }
  },
  "cells": [
    {
      "cell_type": "markdown",
      "metadata": {
        "id": "view-in-github",
        "colab_type": "text"
      },
      "source": [
        "<a href=\"https://colab.research.google.com/github/nikita-0209/matching-matched-filter/blob/master/DL_Matched_Filter.ipynb\" target=\"_parent\"><img src=\"https://colab.research.google.com/assets/colab-badge.svg\" alt=\"Open In Colab\"/></a>"
      ]
    },
    {
      "cell_type": "markdown",
      "metadata": {
        "id": "tLuXKj8Txlj1",
        "colab_type": "text"
      },
      "source": [
        "## Imports"
      ]
    },
    {
      "cell_type": "code",
      "metadata": {
        "id": "RdtIcTdVIzX1",
        "colab_type": "code",
        "colab": {}
      },
      "source": [
        "import numpy as np"
      ],
      "execution_count": 0,
      "outputs": []
    },
    {
      "cell_type": "code",
      "metadata": {
        "id": "Z1ab5SQWJ710",
        "colab_type": "code",
        "colab": {}
      },
      "source": [
        "from numpy.random import uniform"
      ],
      "execution_count": 0,
      "outputs": []
    },
    {
      "cell_type": "code",
      "metadata": {
        "id": "kzEPaGr3yBbf",
        "colab_type": "code",
        "colab": {}
      },
      "source": [
        "import pandas as pd"
      ],
      "execution_count": 0,
      "outputs": []
    },
    {
      "cell_type": "code",
      "metadata": {
        "id": "x-4UFiZJAXA8",
        "colab_type": "code",
        "colab": {}
      },
      "source": [
        "# !pip install lalsuite"
      ],
      "execution_count": 0,
      "outputs": []
    },
    {
      "cell_type": "code",
      "metadata": {
        "id": "uNxHgz-KrrRM",
        "colab_type": "code",
        "colab": {}
      },
      "source": [
        "# import sys\n",
        "# !{sys.executable} -m pip install pycbc lalsuite ligo-common --no-cache-dir"
      ],
      "execution_count": 0,
      "outputs": []
    },
    {
      "cell_type": "code",
      "metadata": {
        "id": "HOYnEIeo3xyP",
        "colab_type": "code",
        "colab": {}
      },
      "source": [
        "import pylab"
      ],
      "execution_count": 0,
      "outputs": []
    },
    {
      "cell_type": "code",
      "metadata": {
        "id": "qcXOVmjT3bdo",
        "colab_type": "code",
        "colab": {}
      },
      "source": [
        "import pycbc"
      ],
      "execution_count": 0,
      "outputs": []
    },
    {
      "cell_type": "markdown",
      "metadata": {
        "id": "owaoB5aOxWxo",
        "colab_type": "text"
      },
      "source": [
        "# Data From Injection File"
      ]
    },
    {
      "cell_type": "code",
      "metadata": {
        "id": "8yxeKmmEyNuS",
        "colab_type": "code",
        "colab": {}
      },
      "source": [
        "# from pydrive.auth import GoogleAuth\n",
        "# from pydrive.drive import GoogleDrive\n",
        "# from google.colab import auth\n",
        "# from oauth2client.client import GoogleCredentials"
      ],
      "execution_count": 0,
      "outputs": []
    },
    {
      "cell_type": "code",
      "metadata": {
        "id": "-7Uu2a1-zPfj",
        "colab_type": "code",
        "colab": {}
      },
      "source": [
        "# auth.authenticate_user()\n",
        "# gauth = GoogleAuth()\n",
        "# gauth.credentials = GoogleCredentials.get_application_default()\n",
        "# drive = GoogleDrive(gauth)"
      ],
      "execution_count": 0,
      "outputs": []
    },
    {
      "cell_type": "code",
      "metadata": {
        "id": "WKAejlVJzRr6",
        "colab_type": "code",
        "colab": {}
      },
      "source": [
        "# #Dataset\n",
        "# downloaded = drive.CreateFile({'id':\"1SP57td6q9PCVJuJ8t448DrEmyu6_2Wcz\"})   # replace the id with id of file you want to access\n",
        "# downloaded.GetContentFile('injection_data.xlsx')        # replace the file name with your file"
      ],
      "execution_count": 0,
      "outputs": []
    },
    {
      "cell_type": "code",
      "metadata": {
        "id": "9mPqF65f0a2U",
        "colab_type": "code",
        "colab": {}
      },
      "source": [
        "# #Dataset\n",
        "# downloaded = drive.CreateFile({'id':\"1EJ-ADIY2MSBu6DHR3m843DKRcFTL-HKT\"})   # replace the id with id of file you want to access\n",
        "# downloaded.GetContentFile('distance_injections.xlsx')        # replace the file name with your file"
      ],
      "execution_count": 0,
      "outputs": []
    },
    {
      "cell_type": "code",
      "metadata": {
        "id": "kS8h0Nb6xVB4",
        "colab_type": "code",
        "colab": {}
      },
      "source": [
        "signal_data=pd.read_excel('injection_data.xlsx', names=['mass1', 'mass2', 'luminosity_distance', 'dec', 'ra', 'theta_jn', 'psi', 'phase', 'geocent_time'] )"
      ],
      "execution_count": 0,
      "outputs": []
    },
    {
      "cell_type": "code",
      "metadata": {
        "id": "HetJ4xAx3Prn",
        "colab_type": "code",
        "colab": {}
      },
      "source": [
        "distance_data=pd.read_excel('distance_injections.xlsx', names=['distance', 'SNR'] )"
      ],
      "execution_count": 0,
      "outputs": []
    },
    {
      "cell_type": "code",
      "metadata": {
        "id": "QvOIWSDn0266",
        "colab_type": "code",
        "outputId": "a461d156-8ebc-4b32-82d9-2bc22b65e909",
        "colab": {
          "base_uri": "https://localhost:8080/",
          "height": 352
        }
      },
      "source": [
        "signal_data.head(10)"
      ],
      "execution_count": 0,
      "outputs": [
        {
          "output_type": "execute_result",
          "data": {
            "text/html": [
              "<div>\n",
              "<style scoped>\n",
              "    .dataframe tbody tr th:only-of-type {\n",
              "        vertical-align: middle;\n",
              "    }\n",
              "\n",
              "    .dataframe tbody tr th {\n",
              "        vertical-align: top;\n",
              "    }\n",
              "\n",
              "    .dataframe thead th {\n",
              "        text-align: right;\n",
              "    }\n",
              "</style>\n",
              "<table border=\"1\" class=\"dataframe\">\n",
              "  <thead>\n",
              "    <tr style=\"text-align: right;\">\n",
              "      <th></th>\n",
              "      <th>mass1</th>\n",
              "      <th>mass2</th>\n",
              "      <th>luminosity_distance</th>\n",
              "      <th>dec</th>\n",
              "      <th>ra</th>\n",
              "      <th>theta_jn</th>\n",
              "      <th>psi</th>\n",
              "      <th>phase</th>\n",
              "      <th>geocent_time</th>\n",
              "    </tr>\n",
              "  </thead>\n",
              "  <tbody>\n",
              "    <tr>\n",
              "      <th>0</th>\n",
              "      <td>34.769382</td>\n",
              "      <td>22.067648</td>\n",
              "      <td>100</td>\n",
              "      <td>0.476743</td>\n",
              "      <td>0.865509</td>\n",
              "      <td>0.089244</td>\n",
              "      <td>2.236250</td>\n",
              "      <td>1.207492</td>\n",
              "      <td>-0.036691</td>\n",
              "    </tr>\n",
              "    <tr>\n",
              "      <th>1</th>\n",
              "      <td>52.264753</td>\n",
              "      <td>26.920606</td>\n",
              "      <td>100</td>\n",
              "      <td>0.802188</td>\n",
              "      <td>0.205857</td>\n",
              "      <td>2.124343</td>\n",
              "      <td>0.427505</td>\n",
              "      <td>5.474731</td>\n",
              "      <td>0.028464</td>\n",
              "    </tr>\n",
              "    <tr>\n",
              "      <th>2</th>\n",
              "      <td>24.031573</td>\n",
              "      <td>17.698322</td>\n",
              "      <td>100</td>\n",
              "      <td>0.643144</td>\n",
              "      <td>5.234487</td>\n",
              "      <td>1.717964</td>\n",
              "      <td>0.093129</td>\n",
              "      <td>2.240526</td>\n",
              "      <td>0.060359</td>\n",
              "    </tr>\n",
              "    <tr>\n",
              "      <th>3</th>\n",
              "      <td>59.616037</td>\n",
              "      <td>32.912266</td>\n",
              "      <td>100</td>\n",
              "      <td>1.181200</td>\n",
              "      <td>0.684888</td>\n",
              "      <td>2.116541</td>\n",
              "      <td>0.769792</td>\n",
              "      <td>4.331894</td>\n",
              "      <td>-0.045774</td>\n",
              "    </tr>\n",
              "    <tr>\n",
              "      <th>4</th>\n",
              "      <td>31.965274</td>\n",
              "      <td>11.421382</td>\n",
              "      <td>100</td>\n",
              "      <td>1.106890</td>\n",
              "      <td>0.800020</td>\n",
              "      <td>1.114848</td>\n",
              "      <td>2.553226</td>\n",
              "      <td>4.168019</td>\n",
              "      <td>-0.034635</td>\n",
              "    </tr>\n",
              "    <tr>\n",
              "      <th>5</th>\n",
              "      <td>49.020917</td>\n",
              "      <td>18.664094</td>\n",
              "      <td>100</td>\n",
              "      <td>-1.268530</td>\n",
              "      <td>3.384477</td>\n",
              "      <td>0.919404</td>\n",
              "      <td>1.853104</td>\n",
              "      <td>4.533653</td>\n",
              "      <td>-0.005067</td>\n",
              "    </tr>\n",
              "    <tr>\n",
              "      <th>6</th>\n",
              "      <td>49.635037</td>\n",
              "      <td>28.981642</td>\n",
              "      <td>100</td>\n",
              "      <td>1.011487</td>\n",
              "      <td>4.724171</td>\n",
              "      <td>2.683427</td>\n",
              "      <td>2.898480</td>\n",
              "      <td>1.587583</td>\n",
              "      <td>-0.053270</td>\n",
              "    </tr>\n",
              "    <tr>\n",
              "      <th>7</th>\n",
              "      <td>64.050693</td>\n",
              "      <td>11.318849</td>\n",
              "      <td>100</td>\n",
              "      <td>0.428512</td>\n",
              "      <td>3.998504</td>\n",
              "      <td>1.718629</td>\n",
              "      <td>0.283543</td>\n",
              "      <td>5.109386</td>\n",
              "      <td>0.029129</td>\n",
              "    </tr>\n",
              "    <tr>\n",
              "      <th>8</th>\n",
              "      <td>33.260962</td>\n",
              "      <td>8.601422</td>\n",
              "      <td>100</td>\n",
              "      <td>0.917346</td>\n",
              "      <td>1.713397</td>\n",
              "      <td>1.829735</td>\n",
              "      <td>1.072181</td>\n",
              "      <td>2.749452</td>\n",
              "      <td>-0.052606</td>\n",
              "    </tr>\n",
              "    <tr>\n",
              "      <th>9</th>\n",
              "      <td>50.527195</td>\n",
              "      <td>47.793341</td>\n",
              "      <td>100</td>\n",
              "      <td>-0.526689</td>\n",
              "      <td>1.789146</td>\n",
              "      <td>2.502245</td>\n",
              "      <td>2.283553</td>\n",
              "      <td>0.919675</td>\n",
              "      <td>-0.089908</td>\n",
              "    </tr>\n",
              "  </tbody>\n",
              "</table>\n",
              "</div>"
            ],
            "text/plain": [
              "       mass1      mass2  luminosity_distance  ...       psi     phase  geocent_time\n",
              "0  34.769382  22.067648                  100  ...  2.236250  1.207492     -0.036691\n",
              "1  52.264753  26.920606                  100  ...  0.427505  5.474731      0.028464\n",
              "2  24.031573  17.698322                  100  ...  0.093129  2.240526      0.060359\n",
              "3  59.616037  32.912266                  100  ...  0.769792  4.331894     -0.045774\n",
              "4  31.965274  11.421382                  100  ...  2.553226  4.168019     -0.034635\n",
              "5  49.020917  18.664094                  100  ...  1.853104  4.533653     -0.005067\n",
              "6  49.635037  28.981642                  100  ...  2.898480  1.587583     -0.053270\n",
              "7  64.050693  11.318849                  100  ...  0.283543  5.109386      0.029129\n",
              "8  33.260962   8.601422                  100  ...  1.072181  2.749452     -0.052606\n",
              "9  50.527195  47.793341                  100  ...  2.283553  0.919675     -0.089908\n",
              "\n",
              "[10 rows x 9 columns]"
            ]
          },
          "metadata": {
            "tags": []
          },
          "execution_count": 14
        }
      ]
    },
    {
      "cell_type": "code",
      "metadata": {
        "id": "0Esw5Rng3aeU",
        "colab_type": "code",
        "outputId": "b6ea1445-09f4-4c67-ff74-8ec035f8929a",
        "colab": {
          "base_uri": "https://localhost:8080/",
          "height": 200
        }
      },
      "source": [
        "distance_data.head()"
      ],
      "execution_count": 0,
      "outputs": [
        {
          "output_type": "execute_result",
          "data": {
            "text/html": [
              "<div>\n",
              "<style scoped>\n",
              "    .dataframe tbody tr th:only-of-type {\n",
              "        vertical-align: middle;\n",
              "    }\n",
              "\n",
              "    .dataframe tbody tr th {\n",
              "        vertical-align: top;\n",
              "    }\n",
              "\n",
              "    .dataframe thead th {\n",
              "        text-align: right;\n",
              "    }\n",
              "</style>\n",
              "<table border=\"1\" class=\"dataframe\">\n",
              "  <thead>\n",
              "    <tr style=\"text-align: right;\">\n",
              "      <th></th>\n",
              "      <th>distance</th>\n",
              "      <th>SNR</th>\n",
              "    </tr>\n",
              "  </thead>\n",
              "  <tbody>\n",
              "    <tr>\n",
              "      <th>0</th>\n",
              "      <td>2474.272753</td>\n",
              "      <td>6.0</td>\n",
              "    </tr>\n",
              "    <tr>\n",
              "      <th>1</th>\n",
              "      <td>2482.375371</td>\n",
              "      <td>6.0</td>\n",
              "    </tr>\n",
              "    <tr>\n",
              "      <th>2</th>\n",
              "      <td>1157.223082</td>\n",
              "      <td>6.0</td>\n",
              "    </tr>\n",
              "    <tr>\n",
              "      <th>3</th>\n",
              "      <td>2529.076369</td>\n",
              "      <td>6.0</td>\n",
              "    </tr>\n",
              "    <tr>\n",
              "      <th>4</th>\n",
              "      <td>1061.410622</td>\n",
              "      <td>6.0</td>\n",
              "    </tr>\n",
              "  </tbody>\n",
              "</table>\n",
              "</div>"
            ],
            "text/plain": [
              "      distance  SNR\n",
              "0  2474.272753  6.0\n",
              "1  2482.375371  6.0\n",
              "2  1157.223082  6.0\n",
              "3  2529.076369  6.0\n",
              "4  1061.410622  6.0"
            ]
          },
          "metadata": {
            "tags": []
          },
          "execution_count": 15
        }
      ]
    },
    {
      "cell_type": "code",
      "metadata": {
        "id": "WhKFAmBO1NPc",
        "colab_type": "code",
        "colab": {}
      },
      "source": [
        "N=8192*100  #N is number of samples, N=length/delta_t\n",
        "fs=8192 #fs is sampling frequnecy\n",
        "length=100 #duration of segment\n",
        "delta_f=fs/N\n",
        "f_samples = N/ 2 + 1\n",
        "f_lower=20\n",
        "delta_t=1.0/8192"
      ],
      "execution_count": 0,
      "outputs": []
    },
    {
      "cell_type": "code",
      "metadata": {
        "id": "O3a_dVda6a6b",
        "colab_type": "code",
        "colab": {}
      },
      "source": [
        "from pycbc.psd.analytical import AdVDesignSensitivityP1200087\n",
        "\n",
        "def get_psd(f_samples, delta_f, low_freq_cutoff):\n",
        "  psd=AdVDesignSensitivityP1200087(f_samples, delta_f, low_freq_cutoff)\n",
        "  return psd"
      ],
      "execution_count": 0,
      "outputs": []
    },
    {
      "cell_type": "code",
      "metadata": {
        "id": "1Kre3zC09FvV",
        "colab_type": "code",
        "colab": {}
      },
      "source": [
        "from pycbc.noise.gaussian import frequency_noise_from_psd\n",
        "\n",
        "def get_noise(psd, seed=None):\n",
        "  noise=frequency_noise_from_psd(psd, seed=seed)\n",
        "  noise_time = noise.to_timeseries()\n",
        "  return noise_time"
      ],
      "execution_count": 0,
      "outputs": []
    },
    {
      "cell_type": "code",
      "metadata": {
        "id": "HIE9oQ9N9uqa",
        "colab_type": "code",
        "colab": {}
      },
      "source": [
        "def get_data(data, dist):\n",
        "    m1=data['mass1']\n",
        "    m2=data['mass2']\n",
        "    dec=data['dec']\n",
        "    ra=data['ra']\n",
        "    inclination=data['theta_jn']\n",
        "    coa_phase=data['phase']\n",
        "    pol_angle=data['psi']\n",
        "    distance=dist['distance']\n",
        "    return m1, m2, dec, ra, inclination, coa_phase, pol_angle, distance"
      ],
      "execution_count": 0,
      "outputs": []
    },
    {
      "cell_type": "code",
      "metadata": {
        "id": "Eq43xeLE29pB",
        "colab_type": "code",
        "colab": {}
      },
      "source": [
        "from pycbc.waveform import get_td_waveform\n",
        "from pycbc.detector import Detector\n",
        "\n",
        "def get_signal(m1, m2, dec, ra, inclination, coa_phase, pol_angle, distance, delta_t, f_lower):\n",
        "  apx = 'IMRPhenomD'\n",
        "  hp, hc = get_td_waveform(approximant=apx,\n",
        "                                 mass1=m1,\n",
        "                                 mass2=m2,\n",
        "                                 spin1z=0,\n",
        "                                 delta_t=delta_t,\n",
        "                                 distance=distance,\n",
        "                                 inclination = inclination,\n",
        "                                 coa_phase =  coa_phase,\n",
        "                                 f_lower=f_lower)\n",
        "  \n",
        "  det_h1 = Detector('H1')\n",
        "  signal = det_h1.project_wave(hp, hc, ra, dec, pol_angle)\n",
        "  signal_peak_index=np.argmax(signal)\n",
        "\n",
        "  return signal, signal_peak_index\n"
      ],
      "execution_count": 0,
      "outputs": []
    },
    {
      "cell_type": "code",
      "metadata": {
        "id": "QJ-_PVnW4VpL",
        "colab_type": "code",
        "colab": {}
      },
      "source": [
        "def add_noise_signal(noise, signal):\n",
        "  length_signal = len(signal)\n",
        "  signal_plus_noise=noise\n",
        "  signal_plus_noise[0:length_signal]=np.add(noise[0:length_signal], signal)\n",
        "  return signal_plus_noise"
      ],
      "execution_count": 0,
      "outputs": []
    },
    {
      "cell_type": "code",
      "metadata": {
        "id": "1gsCmtv84ye7",
        "colab_type": "code",
        "colab": {}
      },
      "source": [
        "from pycbc.psd import welch, interpolate\n",
        "\n",
        "def get_whiten(signal_plus_noise):\n",
        "  signal_freq_series=signal_plus_noise.to_frequencyseries()\n",
        "  numerator = signal_freq_series\n",
        "  psd_to_whiten = interpolate(welch(signal_plus_noise), 1.0 / signal_plus_noise.duration)\n",
        "  denominator=np.sqrt(psd_to_whiten)\n",
        "  whiten_freq = (numerator / denominator)\n",
        "  whiten=whiten_freq.to_timeseries()\n",
        "  return whiten"
      ],
      "execution_count": 0,
      "outputs": []
    },
    {
      "cell_type": "code",
      "metadata": {
        "id": "49Zi0yd45wab",
        "colab_type": "code",
        "colab": {}
      },
      "source": [
        "def get_1s(whiten, signal_peak_index=None):\n",
        "  \n",
        "  if signal_peak_index==None:\n",
        "    zoom=whiten.time_slice(0,1)\n",
        "    return zoom.data.reshape((8192, 1))\n",
        "\n",
        "  max_index=signal_peak_index+2\n",
        "  time_of_max=whiten.sample_times.data[max_index]\n",
        "  if time_of_max>0.8:\n",
        "    zoom = whiten.time_slice(time_of_max-0.8, time_of_max+0.2)\n",
        "  elif time_of_max>0.6:\n",
        "    zoom = whiten.time_slice(time_of_max-0.6, time_of_max+0.4)\n",
        "  return zoom.data.reshape((8192, 1))"
      ],
      "execution_count": 0,
      "outputs": []
    },
    {
      "cell_type": "code",
      "metadata": {
        "id": "GCqvg6lH9Wx0",
        "colab_type": "code",
        "outputId": "b58c86a9-ecd7-4627-afc4-3e3c76aef988",
        "colab": {
          "base_uri": "https://localhost:8080/",
          "height": 52
        }
      },
      "source": [
        "psd=get_psd(f_samples, delta_f, f_lower)"
      ],
      "execution_count": 0,
      "outputs": [
        {
          "output_type": "stream",
          "text": [
            "/usr/local/lib/python3.6/dist-packages/pycbc/psd/analytical.py:103: RuntimeWarning: forcing length argument to int\n",
            "  warnings.warn('forcing length argument to int', RuntimeWarning)\n"
          ],
          "name": "stderr"
        }
      ]
    },
    {
      "cell_type": "markdown",
      "metadata": {
        "id": "w6tpaoKby5sA",
        "colab_type": "text"
      },
      "source": [
        "##  Preparing Training Dataset"
      ]
    },
    {
      "cell_type": "code",
      "metadata": {
        "id": "xjc4P5qnBDjR",
        "colab_type": "code",
        "colab": {}
      },
      "source": [
        "signal_num=signal_data.shape[0]//4  #number of samples considered\n",
        "i=0"
      ],
      "execution_count": 0,
      "outputs": []
    },
    {
      "cell_type": "code",
      "metadata": {
        "id": "X8hdvuFEiIAr",
        "colab_type": "code",
        "colab": {}
      },
      "source": [
        "noise_seeds=[44, 76, 32]  "
      ],
      "execution_count": 0,
      "outputs": []
    },
    {
      "cell_type": "code",
      "metadata": {
        "id": "ME9bJkxojIp3",
        "colab_type": "code",
        "colab": {}
      },
      "source": [
        "total=signal_num*len(noise_seeds)"
      ],
      "execution_count": 0,
      "outputs": []
    },
    {
      "cell_type": "code",
      "metadata": {
        "id": "1VWy8zba6MMn",
        "colab_type": "code",
        "colab": {}
      },
      "source": [
        "X=np.zeros((total*2,8192, 1))\n",
        "# timeseries=np.zeros((len(total),8192))"
      ],
      "execution_count": 0,
      "outputs": []
    },
    {
      "cell_type": "code",
      "metadata": {
        "id": "YxXVLkxkRsFA",
        "colab_type": "code",
        "colab": {}
      },
      "source": [
        "for i in range(0, total):\n",
        "  noise=get_noise(psd)\n",
        "  whiten = get_whiten (noise)\n",
        "  X[i] =  get_1s (whiten)"
      ],
      "execution_count": 0,
      "outputs": []
    },
    {
      "cell_type": "code",
      "metadata": {
        "id": "KBHPM3eCPqcW",
        "colab_type": "code",
        "colab": {}
      },
      "source": [
        "i=7499"
      ],
      "execution_count": 0,
      "outputs": []
    },
    {
      "cell_type": "code",
      "metadata": {
        "id": "3T5cM5iDPxeO",
        "colab_type": "code",
        "outputId": "b8579709-db54-416e-d6bc-62e998fe94ac",
        "colab": {
          "base_uri": "https://localhost:8080/",
          "height": 35
        }
      },
      "source": [
        "total"
      ],
      "execution_count": 0,
      "outputs": [
        {
          "output_type": "execute_result",
          "data": {
            "text/plain": [
              "7500"
            ]
          },
          "metadata": {
            "tags": []
          },
          "execution_count": 49
        }
      ]
    },
    {
      "cell_type": "code",
      "metadata": {
        "id": "qzcksh1N1UDu",
        "colab_type": "code",
        "colab": {}
      },
      "source": [
        "for index in range (0, total):\n",
        "# for index in total:\n",
        "  m1, m2, dec, ra, inclination, coa_phase, pol_angle, distance = get_data (signal_data.loc[index], distance_data.loc[index] )\n",
        "  signal, signal_peak_index = get_signal(m1, m2, dec, ra, inclination, coa_phase, pol_angle, distance, delta_t, f_lower)\n",
        "  i=i+1\n",
        "  for seed in noise_seeds:\n",
        "    noise=get_noise(psd, seed)\n",
        "    final = add_noise_signal(noise, signal)\n",
        "    whiten = get_whiten (final)\n",
        "    X[i] =  get_1s (whiten, signal_peak_index)"
      ],
      "execution_count": 0,
      "outputs": []
    },
    {
      "cell_type": "code",
      "metadata": {
        "id": "o2BdbQ6QkTQ4",
        "colab_type": "code",
        "outputId": "b4d1a083-8b22-4349-ab52-6895b0c57e59",
        "colab": {
          "base_uri": "https://localhost:8080/",
          "height": 35
        }
      },
      "source": [
        "X.shape"
      ],
      "execution_count": 0,
      "outputs": [
        {
          "output_type": "execute_result",
          "data": {
            "text/plain": [
              "(15000, 8192, 1)"
            ]
          },
          "metadata": {
            "tags": []
          },
          "execution_count": 51
        }
      ]
    },
    {
      "cell_type": "markdown",
      "metadata": {
        "id": "XUPqCHBvLz73",
        "colab_type": "text"
      },
      "source": [
        "# Read the X Samples"
      ]
    },
    {
      "cell_type": "code",
      "metadata": {
        "id": "OZ53gam9G9o8",
        "colab_type": "code",
        "colab": {}
      },
      "source": [
        "file_name='/content/drive/My Drive/Matching Matched Filtering/data_15000.h5'"
      ],
      "execution_count": 0,
      "outputs": []
    },
    {
      "cell_type": "code",
      "metadata": {
        "id": "MUMEo8NjL5Jo",
        "colab_type": "code",
        "colab": {}
      },
      "source": [
        "data= h5py.File(file_name, 'r')"
      ],
      "execution_count": 0,
      "outputs": []
    },
    {
      "cell_type": "code",
      "metadata": {
        "id": "8IXgoR55Nfmt",
        "colab_type": "code",
        "colab": {}
      },
      "source": [
        "X=data['samples']"
      ],
      "execution_count": 0,
      "outputs": []
    },
    {
      "cell_type": "code",
      "metadata": {
        "id": "kUN9APyFNjmY",
        "colab_type": "code",
        "outputId": "ed5d6429-7330-43b3-a8ba-94b832b77ee7",
        "colab": {
          "base_uri": "https://localhost:8080/",
          "height": 35
        }
      },
      "source": [
        "type(X[:])"
      ],
      "execution_count": 0,
      "outputs": [
        {
          "output_type": "execute_result",
          "data": {
            "text/plain": [
              "numpy.ndarray"
            ]
          },
          "metadata": {
            "tags": []
          },
          "execution_count": 27
        }
      ]
    },
    {
      "cell_type": "markdown",
      "metadata": {
        "id": "9RZ7D4f0Qcgq",
        "colab_type": "text"
      },
      "source": [
        "# Create Y Samples"
      ]
    },
    {
      "cell_type": "code",
      "metadata": {
        "id": "7k-yujPRTZCt",
        "colab_type": "code",
        "outputId": "497620a0-cd83-4a0d-8a1c-e474a0f0bf41",
        "colab": {
          "base_uri": "https://localhost:8080/",
          "height": 141
        }
      },
      "source": [
        "Y=np.concatenate((np.zeros((7500, 1)), np.ones((7500, 1))))\n",
        "Y"
      ],
      "execution_count": 0,
      "outputs": [
        {
          "output_type": "execute_result",
          "data": {
            "text/plain": [
              "array([[0.],\n",
              "       [0.],\n",
              "       [0.],\n",
              "       ...,\n",
              "       [1.],\n",
              "       [1.],\n",
              "       [1.]])"
            ]
          },
          "metadata": {
            "tags": []
          },
          "execution_count": 22
        }
      ]
    },
    {
      "cell_type": "markdown",
      "metadata": {
        "id": "mROWM6NSTuNR",
        "colab_type": "text"
      },
      "source": [
        "# Train, Validation Split"
      ]
    },
    {
      "cell_type": "code",
      "metadata": {
        "id": "5lLaCP7dWRJJ",
        "colab_type": "code",
        "colab": {}
      },
      "source": [
        "from sklearn.model_selection import train_test_split"
      ],
      "execution_count": 0,
      "outputs": []
    },
    {
      "cell_type": "code",
      "metadata": {
        "id": "Ws8VZKKcT2pO",
        "colab_type": "code",
        "colab": {}
      },
      "source": [
        "trainX, valX, trainY, valY = train_test_split(X[:], Y, test_size=0.2, random_state=42)"
      ],
      "execution_count": 0,
      "outputs": []
    },
    {
      "cell_type": "code",
      "metadata": {
        "id": "UVGOO6N7ShgF",
        "colab_type": "code",
        "outputId": "bcb6f64c-a8eb-485f-f697-da575c054ccf",
        "colab": {
          "base_uri": "https://localhost:8080/",
          "height": 35
        }
      },
      "source": [
        "np.sum(trainY==1)"
      ],
      "execution_count": 0,
      "outputs": [
        {
          "output_type": "execute_result",
          "data": {
            "text/plain": [
              "6007"
            ]
          },
          "metadata": {
            "tags": []
          },
          "execution_count": 57
        }
      ]
    },
    {
      "cell_type": "code",
      "metadata": {
        "id": "zvS9mdF0QoGT",
        "colab_type": "code",
        "colab": {}
      },
      "source": [
        "valX, testX, valY, testY = train_test_split(valX, valY, test_size=0.5, random_state=42)"
      ],
      "execution_count": 0,
      "outputs": []
    },
    {
      "cell_type": "code",
      "metadata": {
        "id": "fAJDncHTlYR4",
        "colab_type": "code",
        "outputId": "d9fe7d58-382e-4c9f-ee6f-e2c9abad6c0e",
        "colab": {
          "base_uri": "https://localhost:8080/",
          "height": 35
        }
      },
      "source": [
        "trainX.shape"
      ],
      "execution_count": 0,
      "outputs": [
        {
          "output_type": "execute_result",
          "data": {
            "text/plain": [
              "(12000, 8192, 1)"
            ]
          },
          "metadata": {
            "tags": []
          },
          "execution_count": 29
        }
      ]
    },
    {
      "cell_type": "markdown",
      "metadata": {
        "id": "r_W08RG7S9_i",
        "colab_type": "text"
      },
      "source": [
        "# Model"
      ]
    },
    {
      "cell_type": "code",
      "metadata": {
        "id": "rIU6N3DNYZz3",
        "colab_type": "code",
        "colab": {}
      },
      "source": [
        "from tensorflow.python.keras.layers import Dense, Flatten, MaxPooling1D\n",
        "from tensorflow.python.keras import Sequential\n",
        "from tensorflow.keras.layers import Conv1D, Dropout\n",
        "from tensorflow.keras.optimizers import Adam\n",
        "from tensorflow.keras.losses import BinaryCrossentropy\n",
        "from tensorflow.keras.utils import to_categorical\n",
        "from tensorflow.keras.callbacks import ModelCheckpoint\n",
        "from tensorflow.keras.metrics import binary_accuracy, AUC"
      ],
      "execution_count": 0,
      "outputs": []
    },
    {
      "cell_type": "code",
      "metadata": {
        "id": "l7EODicqXV6r",
        "colab_type": "code",
        "colab": {}
      },
      "source": [
        "batch_size=64"
      ],
      "execution_count": 0,
      "outputs": []
    },
    {
      "cell_type": "code",
      "metadata": {
        "id": "G5JqSEVIZ1ne",
        "colab_type": "code",
        "colab": {}
      },
      "source": [
        "input_shape=(8192, 1)"
      ],
      "execution_count": 0,
      "outputs": []
    },
    {
      "cell_type": "code",
      "metadata": {
        "id": "Mnj2dzoKTOp3",
        "colab_type": "code",
        "colab": {}
      },
      "source": [
        "model=Sequential()\n",
        "\n",
        "model.add(Conv1D(filters=8, kernel_size=64, activation='relu', input_shape=input_shape))\n",
        "model.add(Conv1D(8, kernel_size=32, activation='relu'))\n",
        "model.add(MaxPooling1D(pool_size=8))\n",
        "\n",
        "model.add(Conv1D(16, kernel_size=32, activation='relu'))\n",
        "model.add(Conv1D(16, kernel_size=16, activation='relu'))\n",
        "model.add(MaxPooling1D(pool_size=6))\n",
        "\n",
        "model.add(Conv1D(32, kernel_size=16, activation='relu'))\n",
        "model.add(Conv1D(32, kernel_size=16, activation='relu'))\n",
        "model.add(MaxPooling1D(pool_size=4))\n",
        "\n",
        "model.add(Flatten())\n",
        "\n",
        "model.add(Dense(64, activation='relu'))\n",
        "model.add(Dropout(0.5))\n",
        "\n",
        "model.add(Dense(64, activation='relu'))\n",
        "model.add(Dropout(0.5))\n",
        "\n",
        "model.add(Dense(2, activation='softmax'))\n",
        "\n",
        "\n",
        "model.compile(loss=BinaryCrossentropy(),\n",
        "              optimizer=Adam(learning_rate=0.002, beta_1=0.9, beta_2=0.999, epsilon=1e-08),\n",
        "              metrics=['binary_accuracy', 'accuracy'])\n"
      ],
      "execution_count": 0,
      "outputs": []
    },
    {
      "cell_type": "code",
      "metadata": {
        "id": "Dvtz8D_merfA",
        "colab_type": "code",
        "outputId": "e6ddb992-f89a-4909-e544-aa5a9118540f",
        "colab": {
          "base_uri": "https://localhost:8080/",
          "height": 692
        }
      },
      "source": [
        "model.summary()"
      ],
      "execution_count": 0,
      "outputs": [
        {
          "output_type": "stream",
          "text": [
            "Model: \"sequential\"\n",
            "_________________________________________________________________\n",
            "Layer (type)                 Output Shape              Param #   \n",
            "=================================================================\n",
            "conv1d (Conv1D)              (None, 8129, 8)           520       \n",
            "_________________________________________________________________\n",
            "conv1d_1 (Conv1D)            (None, 8098, 8)           2056      \n",
            "_________________________________________________________________\n",
            "max_pooling1d (MaxPooling1D) (None, 1012, 8)           0         \n",
            "_________________________________________________________________\n",
            "conv1d_2 (Conv1D)            (None, 981, 16)           4112      \n",
            "_________________________________________________________________\n",
            "conv1d_3 (Conv1D)            (None, 966, 16)           4112      \n",
            "_________________________________________________________________\n",
            "max_pooling1d_1 (MaxPooling1 (None, 161, 16)           0         \n",
            "_________________________________________________________________\n",
            "conv1d_4 (Conv1D)            (None, 146, 32)           8224      \n",
            "_________________________________________________________________\n",
            "conv1d_5 (Conv1D)            (None, 131, 32)           16416     \n",
            "_________________________________________________________________\n",
            "max_pooling1d_2 (MaxPooling1 (None, 32, 32)            0         \n",
            "_________________________________________________________________\n",
            "flatten (Flatten)            (None, 1024)              0         \n",
            "_________________________________________________________________\n",
            "dense (Dense)                (None, 64)                65600     \n",
            "_________________________________________________________________\n",
            "dropout (Dropout)            (None, 64)                0         \n",
            "_________________________________________________________________\n",
            "dense_1 (Dense)              (None, 64)                4160      \n",
            "_________________________________________________________________\n",
            "dropout_1 (Dropout)          (None, 64)                0         \n",
            "_________________________________________________________________\n",
            "dense_2 (Dense)              (None, 2)                 130       \n",
            "=================================================================\n",
            "Total params: 105,330\n",
            "Trainable params: 105,330\n",
            "Non-trainable params: 0\n",
            "_________________________________________________________________\n"
          ],
          "name": "stdout"
        }
      ]
    },
    {
      "cell_type": "code",
      "metadata": {
        "id": "BvEiCM1qkfLl",
        "colab_type": "code",
        "colab": {}
      },
      "source": [
        "import random\n",
        "from tensorflow.keras.callbacks import ModelCheckpoint"
      ],
      "execution_count": 0,
      "outputs": []
    },
    {
      "cell_type": "code",
      "metadata": {
        "id": "55txJSbHdi4y",
        "colab_type": "code",
        "colab": {}
      },
      "source": [
        "def gen(features, labels, batch_size):\n",
        " # Create empty arrays to contain batch of features and labels#\n",
        " batch_features = np.zeros((batch_size, 8192, 1))\n",
        " batch_labels = np.zeros((batch_size, 1))\n",
        " while True:\n",
        "   for i in range(batch_size):\n",
        "     # choose random index in features\n",
        "     index= random.choices(range(len(labels)),k=batch_size)\n",
        "     batch_features = features[index]\n",
        "     batch_labels = labels[index]\n",
        "    #  batch_features = batch_features.reshape(batch_size, 94, 114, 1)\n",
        "   yield batch_features, batch_labels"
      ],
      "execution_count": 0,
      "outputs": []
    },
    {
      "cell_type": "code",
      "metadata": {
        "id": "9h8pH4LEgm_J",
        "colab_type": "code",
        "outputId": "9f136987-20ca-4854-e011-7ea581fbaaad",
        "colab": {
          "base_uri": "https://localhost:8080/",
          "height": 1000
        }
      },
      "source": [
        "import os\n",
        "checkpoint_path = \"/content/drive/My Drive/Matching Matched Filtering/Checkpoints/cp-{epoch:04d}.ckpt\"\n",
        "checkpoint_dir = os.path.dirname(checkpoint_path)\n",
        "\n",
        "# Create a callback that saves the model's weights every 5 epochs\n",
        "cp_callback = ModelCheckpoint(\n",
        "    filepath=checkpoint_path, \n",
        "    verbose=1, \n",
        "    save_weights_only=True,\n",
        "    period=5)\n",
        "\n",
        "history=model.fit_generator(gen(trainX, trainY, batch_size), \n",
        "                    steps_per_epoch=trainY.shape[0]//batch_size, \n",
        "                    epochs=50, \n",
        "                    validation_data=gen(valX, valY, batch_size),\n",
        "                    validation_steps=valY.shape[0]//batch_size,\n",
        "                    callbacks=[cp_callback]\n",
        "                    )"
      ],
      "execution_count": 0,
      "outputs": [
        {
          "output_type": "stream",
          "text": [
            "WARNING:tensorflow:`period` argument is deprecated. Please use `save_freq` to specify the frequency in number of batches seen.\n",
            "Epoch 1/50\n",
            "187/187 [==============================] - 283s 2s/step - loss: 0.6931 - binary_accuracy: 0.4986 - accuracy: 0.9369 - val_loss: 0.6931 - val_binary_accuracy: 0.4966 - val_accuracy: 1.0000\n",
            "Epoch 2/50\n",
            "187/187 [==============================] - 281s 2s/step - loss: 0.6931 - binary_accuracy: 0.4960 - accuracy: 0.9578 - val_loss: 0.6931 - val_binary_accuracy: 0.5014 - val_accuracy: 1.0000\n",
            "Epoch 3/50\n",
            "187/187 [==============================] - 282s 2s/step - loss: 0.6931 - binary_accuracy: 0.5022 - accuracy: 0.8975 - val_loss: 0.6931 - val_binary_accuracy: 0.5082 - val_accuracy: 1.0000\n",
            "Epoch 4/50\n",
            "187/187 [==============================] - 279s 1s/step - loss: 0.6931 - binary_accuracy: 0.5000 - accuracy: 0.9165 - val_loss: 0.6931 - val_binary_accuracy: 0.5156 - val_accuracy: 1.0000\n",
            "Epoch 5/50\n",
            "187/187 [==============================] - ETA: 0s - loss: 0.6931 - binary_accuracy: 0.4860 - accuracy: 0.7709\n",
            "Epoch 00005: saving model to /content/drive/My Drive/Matching Matched Filtering/Checkpoints/cp-0005.ckpt\n",
            "187/187 [==============================] - 280s 1s/step - loss: 0.6931 - binary_accuracy: 0.4860 - accuracy: 0.7709 - val_loss: 0.6931 - val_binary_accuracy: 0.5061 - val_accuracy: 1.0000\n",
            "Epoch 6/50\n",
            "187/187 [==============================] - 282s 2s/step - loss: 0.6931 - binary_accuracy: 0.4975 - accuracy: 0.9164 - val_loss: 0.6931 - val_binary_accuracy: 0.5156 - val_accuracy: 1.0000\n",
            "Epoch 7/50\n",
            "187/187 [==============================] - 286s 2s/step - loss: 0.6931 - binary_accuracy: 0.4991 - accuracy: 0.8991 - val_loss: 0.6931 - val_binary_accuracy: 0.4817 - val_accuracy: 1.0000\n",
            "Epoch 8/50\n",
            "187/187 [==============================] - 282s 2s/step - loss: 0.6931 - binary_accuracy: 0.4959 - accuracy: 0.8681 - val_loss: 0.6931 - val_binary_accuracy: 0.5414 - val_accuracy: 1.0000\n",
            "Epoch 9/50\n",
            "187/187 [==============================] - 280s 1s/step - loss: 0.6931 - binary_accuracy: 0.4945 - accuracy: 0.8314 - val_loss: 0.6931 - val_binary_accuracy: 0.5014 - val_accuracy: 1.0000\n",
            "Epoch 10/50\n",
            "187/187 [==============================] - ETA: 0s - loss: 0.6931 - binary_accuracy: 0.5049 - accuracy: 0.7966\n",
            "Epoch 00010: saving model to /content/drive/My Drive/Matching Matched Filtering/Checkpoints/cp-0010.ckpt\n",
            "187/187 [==============================] - 279s 1s/step - loss: 0.6931 - binary_accuracy: 0.5049 - accuracy: 0.7966 - val_loss: 0.6931 - val_binary_accuracy: 0.4905 - val_accuracy: 1.0000\n",
            "Epoch 11/50\n",
            "187/187 [==============================] - 279s 1s/step - loss: 0.6931 - binary_accuracy: 0.5041 - accuracy: 0.7370 - val_loss: 0.6931 - val_binary_accuracy: 0.5014 - val_accuracy: 1.0000\n",
            "Epoch 12/50\n",
            "187/187 [==============================] - 279s 1s/step - loss: 0.6931 - binary_accuracy: 0.5072 - accuracy: 0.8207 - val_loss: 0.6931 - val_binary_accuracy: 0.5048 - val_accuracy: 0.0000e+00\n",
            "Epoch 13/50\n",
            "187/187 [==============================] - 278s 1s/step - loss: 0.6931 - binary_accuracy: 0.4959 - accuracy: 0.7140 - val_loss: 0.6931 - val_binary_accuracy: 0.5000 - val_accuracy: 0.0000e+00\n",
            "Epoch 14/50\n",
            "187/187 [==============================] - 278s 1s/step - loss: 0.6931 - binary_accuracy: 0.4960 - accuracy: 0.6791 - val_loss: 0.6931 - val_binary_accuracy: 0.4973 - val_accuracy: 1.0000\n",
            "Epoch 15/50\n",
            "187/187 [==============================] - ETA: 0s - loss: 0.6931 - binary_accuracy: 0.4986 - accuracy: 0.8930\n",
            "Epoch 00015: saving model to /content/drive/My Drive/Matching Matched Filtering/Checkpoints/cp-0015.ckpt\n",
            "187/187 [==============================] - 277s 1s/step - loss: 0.6931 - binary_accuracy: 0.4986 - accuracy: 0.8930 - val_loss: 0.6931 - val_binary_accuracy: 0.5163 - val_accuracy: 1.0000\n",
            "Epoch 16/50\n",
            "187/187 [==============================] - 277s 1s/step - loss: 0.6931 - binary_accuracy: 0.5119 - accuracy: 1.0000 - val_loss: 0.6931 - val_binary_accuracy: 0.5312 - val_accuracy: 1.0000\n",
            "Epoch 17/50\n",
            "187/187 [==============================] - 275s 1s/step - loss: 0.6931 - binary_accuracy: 0.5007 - accuracy: 1.0000 - val_loss: 0.6931 - val_binary_accuracy: 0.5041 - val_accuracy: 1.0000\n",
            "Epoch 18/50\n",
            "187/187 [==============================] - 277s 1s/step - loss: 0.6931 - binary_accuracy: 0.4955 - accuracy: 1.0000 - val_loss: 0.6931 - val_binary_accuracy: 0.5075 - val_accuracy: 1.0000\n",
            "Epoch 19/50\n",
            "187/187 [==============================] - 278s 1s/step - loss: 0.6931 - binary_accuracy: 0.5037 - accuracy: 1.0000 - val_loss: 0.6931 - val_binary_accuracy: 0.5122 - val_accuracy: 1.0000\n",
            "Epoch 20/50\n",
            "187/187 [==============================] - ETA: 0s - loss: 0.6931 - binary_accuracy: 0.5003 - accuracy: 1.0000\n",
            "Epoch 00020: saving model to /content/drive/My Drive/Matching Matched Filtering/Checkpoints/cp-0020.ckpt\n",
            "187/187 [==============================] - 276s 1s/step - loss: 0.6931 - binary_accuracy: 0.5003 - accuracy: 1.0000 - val_loss: 0.6931 - val_binary_accuracy: 0.5231 - val_accuracy: 1.0000\n",
            "Epoch 21/50\n",
            "187/187 [==============================] - 274s 1s/step - loss: 0.6931 - binary_accuracy: 0.5010 - accuracy: 1.0000 - val_loss: 0.6931 - val_binary_accuracy: 0.5082 - val_accuracy: 1.0000\n",
            "Epoch 22/50\n",
            "187/187 [==============================] - 278s 1s/step - loss: 0.6931 - binary_accuracy: 0.4978 - accuracy: 1.0000 - val_loss: 0.6931 - val_binary_accuracy: 0.4905 - val_accuracy: 1.0000\n",
            "Epoch 23/50\n",
            "187/187 [==============================] - 276s 1s/step - loss: 0.6931 - binary_accuracy: 0.4942 - accuracy: 1.0000 - val_loss: 0.6931 - val_binary_accuracy: 0.5149 - val_accuracy: 1.0000\n",
            "Epoch 24/50\n",
            "187/187 [==============================] - 276s 1s/step - loss: 0.6931 - binary_accuracy: 0.5052 - accuracy: 1.0000 - val_loss: 0.6931 - val_binary_accuracy: 0.4966 - val_accuracy: 1.0000\n",
            "Epoch 25/50\n",
            "187/187 [==============================] - ETA: 0s - loss: 0.6931 - binary_accuracy: 0.4966 - accuracy: 1.0000\n",
            "Epoch 00025: saving model to /content/drive/My Drive/Matching Matched Filtering/Checkpoints/cp-0025.ckpt\n",
            "187/187 [==============================] - 271s 1s/step - loss: 0.6931 - binary_accuracy: 0.4966 - accuracy: 1.0000 - val_loss: 0.6931 - val_binary_accuracy: 0.5333 - val_accuracy: 1.0000\n",
            "Epoch 26/50\n",
            "187/187 [==============================] - 271s 1s/step - loss: 0.6931 - binary_accuracy: 0.4958 - accuracy: 1.0000 - val_loss: 0.6931 - val_binary_accuracy: 0.5149 - val_accuracy: 1.0000\n",
            "Epoch 27/50\n",
            "187/187 [==============================] - 271s 1s/step - loss: 0.6931 - binary_accuracy: 0.4989 - accuracy: 1.0000 - val_loss: 0.6931 - val_binary_accuracy: 0.5170 - val_accuracy: 1.0000\n",
            "Epoch 28/50\n",
            "187/187 [==============================] - 271s 1s/step - loss: 0.6931 - binary_accuracy: 0.4966 - accuracy: 1.0000 - val_loss: 0.6931 - val_binary_accuracy: 0.5075 - val_accuracy: 1.0000\n",
            "Epoch 29/50\n",
            "187/187 [==============================] - 273s 1s/step - loss: 0.6931 - binary_accuracy: 0.5009 - accuracy: 1.0000 - val_loss: 0.6931 - val_binary_accuracy: 0.4823 - val_accuracy: 1.0000\n",
            "Epoch 30/50\n",
            "187/187 [==============================] - ETA: 0s - loss: 0.6931 - binary_accuracy: 0.5063 - accuracy: 1.0000\n",
            "Epoch 00030: saving model to /content/drive/My Drive/Matching Matched Filtering/Checkpoints/cp-0030.ckpt\n",
            "187/187 [==============================] - 273s 1s/step - loss: 0.6931 - binary_accuracy: 0.5063 - accuracy: 1.0000 - val_loss: 0.6931 - val_binary_accuracy: 0.5183 - val_accuracy: 1.0000\n",
            "Epoch 31/50\n",
            "187/187 [==============================] - 273s 1s/step - loss: 0.6931 - binary_accuracy: 0.5049 - accuracy: 1.0000 - val_loss: 0.6931 - val_binary_accuracy: 0.5129 - val_accuracy: 1.0000\n",
            "Epoch 32/50\n",
            "187/187 [==============================] - 271s 1s/step - loss: 0.6931 - binary_accuracy: 0.4972 - accuracy: 1.0000 - val_loss: 0.6931 - val_binary_accuracy: 0.5238 - val_accuracy: 1.0000\n",
            "Epoch 33/50\n",
            "187/187 [==============================] - 272s 1s/step - loss: 0.6931 - binary_accuracy: 0.4979 - accuracy: 1.0000 - val_loss: 0.6931 - val_binary_accuracy: 0.5082 - val_accuracy: 1.0000\n",
            "Epoch 34/50\n",
            "187/187 [==============================] - 273s 1s/step - loss: 0.6931 - binary_accuracy: 0.4986 - accuracy: 1.0000 - val_loss: 0.6931 - val_binary_accuracy: 0.5163 - val_accuracy: 1.0000\n",
            "Epoch 35/50\n",
            "187/187 [==============================] - ETA: 0s - loss: 0.6931 - binary_accuracy: 0.4993 - accuracy: 1.0000\n",
            "Epoch 00035: saving model to /content/drive/My Drive/Matching Matched Filtering/Checkpoints/cp-0035.ckpt\n",
            "187/187 [==============================] - 274s 1s/step - loss: 0.6931 - binary_accuracy: 0.4993 - accuracy: 1.0000 - val_loss: 0.6931 - val_binary_accuracy: 0.5034 - val_accuracy: 1.0000\n",
            "Epoch 36/50\n",
            "187/187 [==============================] - 271s 1s/step - loss: 0.6931 - binary_accuracy: 0.5043 - accuracy: 1.0000 - val_loss: 0.6931 - val_binary_accuracy: 0.5007 - val_accuracy: 1.0000\n",
            "Epoch 37/50\n",
            "187/187 [==============================] - 271s 1s/step - loss: 0.6931 - binary_accuracy: 0.4927 - accuracy: 1.0000 - val_loss: 0.6931 - val_binary_accuracy: 0.4755 - val_accuracy: 1.0000\n",
            "Epoch 38/50\n",
            "187/187 [==============================] - 271s 1s/step - loss: 0.6931 - binary_accuracy: 0.5008 - accuracy: 1.0000 - val_loss: 0.6931 - val_binary_accuracy: 0.5143 - val_accuracy: 1.0000\n",
            "Epoch 39/50\n",
            "187/187 [==============================] - 275s 1s/step - loss: 0.6931 - binary_accuracy: 0.5018 - accuracy: 1.0000 - val_loss: 0.6931 - val_binary_accuracy: 0.5048 - val_accuracy: 1.0000\n",
            "Epoch 40/50\n",
            "187/187 [==============================] - ETA: 0s - loss: 0.6931 - binary_accuracy: 0.4987 - accuracy: 1.0000\n",
            "Epoch 00040: saving model to /content/drive/My Drive/Matching Matched Filtering/Checkpoints/cp-0040.ckpt\n",
            "187/187 [==============================] - 269s 1s/step - loss: 0.6931 - binary_accuracy: 0.4987 - accuracy: 1.0000 - val_loss: 0.6931 - val_binary_accuracy: 0.5197 - val_accuracy: 1.0000\n",
            "Epoch 41/50\n",
            " 10/187 [>.............................] - ETA: 3:46 - loss: 0.6931 - binary_accuracy: 0.5188 - accuracy: 1.0000"
          ],
          "name": "stdout"
        }
      ]
    },
    {
      "cell_type": "markdown",
      "metadata": {
        "id": "tB8t3NTKRD3G",
        "colab_type": "text"
      },
      "source": [
        "# Links"
      ]
    },
    {
      "cell_type": "markdown",
      "metadata": {
        "id": "Mh01lV5cfgT8",
        "colab_type": "text"
      },
      "source": [
        "ReLu vs Elu: https://medium.com/@danqing/a-practical-guide-to-relu-b83ca804f1f7"
      ]
    },
    {
      "cell_type": "markdown",
      "metadata": {
        "id": "u_61ZWEKRG_w",
        "colab_type": "text"
      },
      "source": [
        "Shape of 1D: https://stackoverflow.com/questions/53477565/input-shape-for-1d-cnn-keras"
      ]
    },
    {
      "cell_type": "markdown",
      "metadata": {
        "id": "xY3v9wFjYbhk",
        "colab_type": "text"
      },
      "source": [
        "https://lscsoft.docs.ligo.org/lalsuite/lalapps/inspinj_8c.html"
      ]
    },
    {
      "cell_type": "markdown",
      "metadata": {
        "id": "euXMsqv1YZ4m",
        "colab_type": "text"
      },
      "source": [
        "https://lscsoft.docs.ligo.org/ligo.skymap/quickstart/bayestar-injections.html"
      ]
    },
    {
      "cell_type": "markdown",
      "metadata": {
        "id": "_70tvB-zbPDG",
        "colab_type": "text"
      },
      "source": [
        "# SNR"
      ]
    },
    {
      "cell_type": "code",
      "metadata": {
        "id": "KF_uq1CGbOZv",
        "colab_type": "code",
        "outputId": "0cf0df8e-68b2-4584-c87d-8827e98d0d5d",
        "colab": {
          "base_uri": "https://localhost:8080/",
          "height": 297
        }
      },
      "source": [
        "from pycbc.filter import matched_filter\n",
        "\n",
        "hp=signal\n",
        "conditioned=final\n",
        "\n",
        "hp.resize(len(conditioned))\n",
        "\n",
        "template = hp.cyclic_time_shift(hp.start_time)\n",
        "psd_whiten=interpolate(welch(final), 1.0 / final.duration)\n",
        "\n",
        "snr = matched_filter(template, conditioned,\n",
        "                     psd=psd_whiten, low_frequency_cutoff=20)\n",
        "\n",
        "pylab.figure(figsize=[10, 4])\n",
        "pylab.plot(snr.sample_times, abs(snr))\n",
        "pylab.ylabel('Signal-to-noise')\n",
        "pylab.xlabel('Time (s)')\n",
        "pylab.show()\n",
        "\n",
        "peak = abs(snr).numpy().argmax()\n",
        "snrp = snr[peak]\n",
        "time = snr.sample_times[peak]\n",
        "\n",
        "print(\"We found a signal at {}s with SNR {}\".format(time, \n",
        "                                                    abs(snrp)))"
      ],
      "execution_count": 0,
      "outputs": [
        {
          "output_type": "display_data",
          "data": {
            "image/png": "[encoded data removed]",
            "text/plain": [
              "<Figure size 720x288 with 1 Axes>"
            ]
          },
          "metadata": {
            "tags": [],
            "needs_background": "light"
          }
        },
        {
          "output_type": "stream",
          "text": [
            "We found a signal at 7.787841796875s with SNR 7.527323078728172\n"
          ],
          "name": "stdout"
        }
      ]
    },
    {
      "cell_type": "markdown",
      "metadata": {
        "id": "2MKBpMPGx7VR",
        "colab_type": "text"
      },
      "source": [
        "# PSD Generation"
      ]
    },
    {
      "cell_type": "code",
      "metadata": {
        "id": "9IC9UmCK7Pzi",
        "colab_type": "code",
        "colab": {}
      },
      "source": [
        "from pycbc.psd.analytical import AdVDesignSensitivityP1200087,aLIGODesignSensitivityP1200087"
      ],
      "execution_count": 0,
      "outputs": []
    },
    {
      "cell_type": "code",
      "metadata": {
        "id": "RnYaJ5Qpx_gx",
        "colab_type": "code",
        "colab": {}
      },
      "source": [
        "psd=aLIGODesignSensitivityP1200087(f_samples, delta_f, low_freq_cutoff)"
      ],
      "execution_count": 0,
      "outputs": []
    },
    {
      "cell_type": "code",
      "metadata": {
        "id": "9YzKjFAyQbFw",
        "colab_type": "code",
        "colab": {}
      },
      "source": [
        "pylab.loglog(psd.sample_frequencies, psd)\n",
        "pylab.xlim(1, 1024)\n",
        "pylab.ylim(1e-48, 1e-45)\n",
        "pylab.xlabel('Frequency (Hz)')\n",
        "pylab.ylabel('Strain^2 / Hz')\n",
        "pylab.grid()"
      ],
      "execution_count": 0,
      "outputs": []
    },
    {
      "cell_type": "markdown",
      "metadata": {
        "id": "kOxcgBbD6gtN",
        "colab_type": "text"
      },
      "source": [
        "# Noise Generation"
      ]
    },
    {
      "cell_type": "code",
      "metadata": {
        "id": "ktXhFqrN3oM1",
        "colab_type": "code",
        "colab": {}
      },
      "source": [
        "from pycbc.noise.gaussian import frequency_noise_from_psd"
      ],
      "execution_count": 0,
      "outputs": []
    },
    {
      "cell_type": "code",
      "metadata": {
        "id": "LTnstpOcQItd",
        "colab_type": "code",
        "colab": {}
      },
      "source": [
        "import numpy as np"
      ],
      "execution_count": 0,
      "outputs": []
    },
    {
      "cell_type": "code",
      "metadata": {
        "id": "HzuD0i3R6ojN",
        "colab_type": "code",
        "colab": {}
      },
      "source": [
        "noise=frequency_noise_from_psd(psd, seed=7)"
      ],
      "execution_count": 0,
      "outputs": []
    },
    {
      "cell_type": "code",
      "metadata": {
        "id": "VoW91gmi6u5L",
        "colab_type": "code",
        "colab": {}
      },
      "source": [
        "pylab.loglog(psd.sample_frequencies,np.abs(noise)**2)\n",
        "#pylab.loglog(psd.sample_frequencies,psd)\n",
        "pylab.xlim(20, 1024)\n",
        "#pylab.ylim(1e-48, 1e-45)\n",
        "pylab.xlabel('Frequency (Hz)')\n",
        "pylab.ylabel('Strain^2 / Hz')\n",
        "pylab.grid()"
      ],
      "execution_count": 0,
      "outputs": []
    },
    {
      "cell_type": "markdown",
      "metadata": {
        "id": "PvGaJEvzfcEH",
        "colab_type": "text"
      },
      "source": [
        "### Equivelantly in the time domain"
      ]
    },
    {
      "cell_type": "code",
      "metadata": {
        "id": "UBCDZsj6d0QZ",
        "colab_type": "code",
        "colab": {}
      },
      "source": [
        "noise_time = noise.to_timeseries()"
      ],
      "execution_count": 0,
      "outputs": []
    },
    {
      "cell_type": "code",
      "metadata": {
        "id": "7vVZMel6ezc8",
        "colab_type": "code",
        "outputId": "55f54a17-1064-4b18-bb29-9962a3644384",
        "colab": {
          "base_uri": "https://localhost:8080/",
          "height": 290
        }
      },
      "source": [
        "pylab.plot(noise.sample_times, noise)\n",
        "pylab.ylabel('Noise')\n",
        "pylab.xlabel('Time (s)')\n",
        "pylab.show()"
      ],
      "execution_count": 0,
      "outputs": [
        {
          "output_type": "display_data",
          "data": {
            "image/png": "[encoded data removed]",
            "text/plain": [
              "<Figure size 432x288 with 1 Axes>"
            ]
          },
          "metadata": {
            "tags": [],
            "needs_background": "light"
          }
        }
      ]
    },
    {
      "cell_type": "markdown",
      "metadata": {
        "id": "C4I4COcHZ5ao",
        "colab_type": "text"
      },
      "source": [
        "# Signal Generation"
      ]
    },
    {
      "cell_type": "markdown",
      "metadata": {
        "id": "Ol41pOu3Gg_S",
        "colab_type": "text"
      },
      "source": [
        "https://pycbc.org/pycbc/latest/html/waveform.html"
      ]
    },
    {
      "cell_type": "code",
      "metadata": {
        "id": "Eq_N0gfsZ8db",
        "colab_type": "code",
        "colab": {}
      },
      "source": [
        "from pycbc.waveform import get_td_waveform\n",
        "\n",
        "apx = 'IMRPhenomD'\n",
        "hp, hc = get_td_waveform(approximant=apx,\n",
        "                                 mass1=30,\n",
        "                                 mass2=30,\n",
        "                                 spin1z=0,\n",
        "                                 delta_t=1.0/8192,\n",
        "                                 distance=2500,\n",
        "                                 f_lower=20)\n",
        "\n",
        "\n",
        "# pylab.plot(hp.sample_times, hp, label=apx)\n",
        "\n",
        "# pylab.ylabel('Strain')\n",
        "# pylab.xlabel('Time (s)')\n",
        "# pylab.legend()\n",
        "# pylab.show()"
      ],
      "execution_count": 0,
      "outputs": []
    },
    {
      "cell_type": "code",
      "metadata": {
        "id": "saMsmcPxCmYq",
        "colab_type": "code",
        "outputId": "295aaaca-0bc6-4e8a-cec1-5cfc02b2ceee",
        "colab": {
          "base_uri": "https://localhost:8080/",
          "height": 35
        }
      },
      "source": [
        "RA, dec, pol_angle[0]"
      ],
      "execution_count": 0,
      "outputs": [
        {
          "output_type": "execute_result",
          "data": {
            "text/plain": [
              "(4.452922360003714, 0.4524999186594801, 3.0974511035662973)"
            ]
          },
          "metadata": {
            "tags": []
          },
          "execution_count": 33
        }
      ]
    },
    {
      "cell_type": "code",
      "metadata": {
        "id": "XKukVvdJBLDV",
        "colab_type": "code",
        "colab": {}
      },
      "source": [
        "from pycbc.detector import Detector\n",
        "det_h1 = Detector('H1')\n",
        "signal_h1 = det_h1.project_wave(hp, hc,  RA, dec, pol_angle[0])"
      ],
      "execution_count": 0,
      "outputs": []
    },
    {
      "cell_type": "code",
      "metadata": {
        "id": "ZehoiYqfrUuN",
        "colab_type": "code",
        "colab": {}
      },
      "source": [
        "signal_h1=signal"
      ],
      "execution_count": 0,
      "outputs": []
    },
    {
      "cell_type": "code",
      "metadata": {
        "id": "1dmxtnwwB3Fn",
        "colab_type": "code",
        "outputId": "e89d9830-59be-4118-dd3d-70c50fb8ee3f",
        "colab": {
          "base_uri": "https://localhost:8080/",
          "height": 294
        }
      },
      "source": [
        "pylab.plot(signal_h1.sample_times, signal_h1)"
      ],
      "execution_count": 0,
      "outputs": [
        {
          "output_type": "execute_result",
          "data": {
            "text/plain": [
              "[<matplotlib.lines.Line2D at 0x7fd640616940>]"
            ]
          },
          "metadata": {
            "tags": []
          },
          "execution_count": 62
        },
        {
          "output_type": "display_data",
          "data": {
            "image/png": "[encoded data removed]",
            "text/plain": [
              "<Figure size 432x288 with 1 Axes>"
            ]
          },
          "metadata": {
            "tags": [],
            "needs_background": "light"
          }
        }
      ]
    },
    {
      "cell_type": "code",
      "metadata": {
        "id": "k6Mr-huH41Og",
        "colab_type": "code",
        "colab": {}
      },
      "source": [
        "signal_peak_index=np.argmax(signal_h1)"
      ],
      "execution_count": 0,
      "outputs": []
    },
    {
      "cell_type": "code",
      "metadata": {
        "id": "qwb1y5_m5HeD",
        "colab_type": "code",
        "colab": {}
      },
      "source": [
        "# signal_peak_time=signal_h1.sample_times[peak_index]"
      ],
      "execution_count": 0,
      "outputs": []
    },
    {
      "cell_type": "markdown",
      "metadata": {
        "id": "nytHGc0PwpRM",
        "colab_type": "text"
      },
      "source": [
        "\n",
        "# Add Noise and Signal"
      ]
    },
    {
      "cell_type": "code",
      "metadata": {
        "id": "sfg91kOt97AO",
        "colab_type": "code",
        "colab": {}
      },
      "source": [
        "# noise_mid=int(len(noise_time)/2)\n",
        "length_signal = len(signal_h1)"
      ],
      "execution_count": 0,
      "outputs": []
    },
    {
      "cell_type": "code",
      "metadata": {
        "id": "ZReU_g-jrnqD",
        "colab_type": "code",
        "colab": {}
      },
      "source": [
        "noise_time=noise"
      ],
      "execution_count": 0,
      "outputs": []
    },
    {
      "cell_type": "code",
      "metadata": {
        "id": "HQfZ1spPNgU8",
        "colab_type": "code",
        "colab": {}
      },
      "source": [
        "signal_plus_noise=noise_time"
      ],
      "execution_count": 0,
      "outputs": []
    },
    {
      "cell_type": "code",
      "metadata": {
        "id": "9PmhCnLB7Z3e",
        "colab_type": "code",
        "colab": {}
      },
      "source": [
        "# signal_plus_noise[noise_mid:noise_mid+length_signal]=np.add(noise_time[noise_mid:noise_mid+length_signal], signal_h1)\n",
        "signal_plus_noise[0:length_signal]=np.add(noise_time[0:length_signal], signal_h1)"
      ],
      "execution_count": 0,
      "outputs": []
    },
    {
      "cell_type": "code",
      "metadata": {
        "id": "0ZtJSiiq7OtB",
        "colab_type": "code",
        "outputId": "0d46755f-4bd2-4145-90b3-fd3f987007f6",
        "colab": {
          "base_uri": "https://localhost:8080/",
          "height": 290
        }
      },
      "source": [
        "# pylab.plot(noise_time.sample_times, noise_time,label=\"noise\" )\n",
        "pylab.plot(signal_plus_noise.sample_times, signal_plus_noise, label=\"signal plus noise\")\n",
        "# pylab.plot(signal_h1.sample_times,  signal_h1, label=\"signal\")\n",
        "\n",
        "pylab.ylabel('Strain')\n",
        "pylab.xlabel('Time (s)')\n",
        "pylab.legend()\n",
        "pylab.show()"
      ],
      "execution_count": 0,
      "outputs": [
        {
          "output_type": "display_data",
          "data": {
            "image/png": "[encoded data removed]",
            "text/plain": [
              "<Figure size 432x288 with 1 Axes>"
            ]
          },
          "metadata": {
            "tags": [],
            "needs_background": "light"
          }
        }
      ]
    },
    {
      "cell_type": "code",
      "metadata": {
        "id": "HGadtyaelX67",
        "colab_type": "code",
        "outputId": "3af6f2ac-5f7f-4bf0-d6bb-4590c18fb535",
        "colab": {
          "base_uri": "https://localhost:8080/",
          "height": 35
        }
      },
      "source": [
        "signal"
      ],
      "execution_count": 0,
      "outputs": [
        {
          "output_type": "execute_result",
          "data": {
            "text/plain": [
              "<pycbc.types.timeseries.TimeSeries at 0x7f93eab8abe0>"
            ]
          },
          "metadata": {
            "tags": []
          },
          "execution_count": 197
        }
      ]
    },
    {
      "cell_type": "markdown",
      "metadata": {
        "id": "u7Ivp8IefVhH",
        "colab_type": "text"
      },
      "source": [
        "# Whiten the Noise"
      ]
    },
    {
      "cell_type": "code",
      "metadata": {
        "id": "RPv1lOMfOTDo",
        "colab_type": "code",
        "colab": {}
      },
      "source": [
        "from pycbc.psd import welch, interpolate"
      ],
      "execution_count": 0,
      "outputs": []
    },
    {
      "cell_type": "code",
      "metadata": {
        "id": "oLWNV4FFek1P",
        "colab_type": "code",
        "colab": {}
      },
      "source": [
        "# from pycbc.filter.resample import resample_to_delta_t\n",
        "# signal_plus_noise_resampled = resample_to_delta_t(signal_plus_noise, 1/128)\n",
        "signal_freq_series=signal_plus_noise.to_frequencyseries()"
      ],
      "execution_count": 0,
      "outputs": []
    },
    {
      "cell_type": "code",
      "metadata": {
        "id": "q13_pWU_s0uc",
        "colab_type": "code",
        "colab": {}
      },
      "source": [
        "#numerator=np.abs(np.fft.fft(signal_frequecyseries)) #final_frequencies\n",
        "numerator = signal_freq_series"
      ],
      "execution_count": 0,
      "outputs": []
    },
    {
      "cell_type": "code",
      "metadata": {
        "id": "Xkb32WUcMWza",
        "colab_type": "code",
        "colab": {}
      },
      "source": [
        "psd_whiten = interpolate(welch(signal_plus_noise), 1.0 / signal_plus_noise.duration)"
      ],
      "execution_count": 0,
      "outputs": []
    },
    {
      "cell_type": "code",
      "metadata": {
        "id": "JYFt7awbfZME",
        "colab_type": "code",
        "colab": {}
      },
      "source": [
        "denominator=np.sqrt(psd_whiten)"
      ],
      "execution_count": 0,
      "outputs": []
    },
    {
      "cell_type": "code",
      "metadata": {
        "id": "_TG_vzQNMnuS",
        "colab_type": "code",
        "colab": {}
      },
      "source": [
        "whiten_freq = (numerator / denominator)"
      ],
      "execution_count": 0,
      "outputs": []
    },
    {
      "cell_type": "code",
      "metadata": {
        "id": "MufHzhyRM9v1",
        "colab_type": "code",
        "colab": {}
      },
      "source": [
        "whiten=whiten_freq.to_timeseries()"
      ],
      "execution_count": 0,
      "outputs": []
    },
    {
      "cell_type": "code",
      "metadata": {
        "id": "Z9Mxzcvbow_z",
        "colab_type": "code",
        "outputId": "2f100ec0-7f6d-43a5-dbb2-57966679ee85",
        "colab": {
          "base_uri": "https://localhost:8080/",
          "height": 52
        }
      },
      "source": [
        "# #whiten.sample_frequencies=whiten.sample_frequencies[np.logical_not(np.isnan(whiten.data))]\n",
        "# whiten.data=whiten.data[np.logical_not(np.isnan(whiten.data))]\n",
        "whiten.data"
      ],
      "execution_count": 0,
      "outputs": [
        {
          "output_type": "execute_result",
          "data": {
            "text/plain": [
              "array([-64.38301343, -43.77437357, -19.09098838, ..., -32.72893584,\n",
              "       -21.28192263,  12.03966786])"
            ]
          },
          "metadata": {
            "tags": []
          },
          "execution_count": 51
        }
      ]
    },
    {
      "cell_type": "code",
      "metadata": {
        "id": "Kl_MT78So6nA",
        "colab_type": "code",
        "outputId": "3b17f3ff-de0a-4662-cbaf-f4a8ef5957d6",
        "colab": {
          "base_uri": "https://localhost:8080/",
          "height": 281
        }
      },
      "source": [
        "pylab.plot(whiten.sample_times, whiten, label='whiten')\n",
        "pylab.ylabel('Strain')\n",
        "pylab.xlabel('Time (s)')\n",
        "pylab.legend()\n",
        "pylab.show()"
      ],
      "execution_count": 0,
      "outputs": [
        {
          "output_type": "display_data",
          "data": {
            "image/png": "[encoded data removed]",
            "text/plain": [
              "<Figure size 432x288 with 1 Axes>"
            ]
          },
          "metadata": {
            "tags": [],
            "needs_background": "light"
          }
        }
      ]
    },
    {
      "cell_type": "markdown",
      "metadata": {
        "id": "pg2XnUCbQH8l",
        "colab_type": "text"
      },
      "source": [
        "# Zoom into 1s Data"
      ]
    },
    {
      "cell_type": "code",
      "metadata": {
        "id": "y2XNZ-QGSh3O",
        "colab_type": "code",
        "outputId": "301d736d-a987-4365-f4fe-e0014c11671e",
        "colab": {
          "base_uri": "https://localhost:8080/",
          "height": 35
        }
      },
      "source": [
        "signal_peak_index"
      ],
      "execution_count": 0,
      "outputs": [
        {
          "output_type": "execute_result",
          "data": {
            "text/plain": [
              "31108"
            ]
          },
          "metadata": {
            "tags": []
          },
          "execution_count": 53
        }
      ]
    },
    {
      "cell_type": "code",
      "metadata": {
        "id": "bBIIAU7xQMeW",
        "colab_type": "code",
        "outputId": "dc4297f9-54b6-4729-dcc5-0d180a5a0bca",
        "colab": {
          "base_uri": "https://localhost:8080/",
          "height": 35
        }
      },
      "source": [
        "np.argmax(whiten), np.argmax(signal_plus_noise)"
      ],
      "execution_count": 0,
      "outputs": [
        {
          "output_type": "execute_result",
          "data": {
            "text/plain": [
              "(123962, 126939)"
            ]
          },
          "metadata": {
            "tags": []
          },
          "execution_count": 54
        }
      ]
    },
    {
      "cell_type": "code",
      "metadata": {
        "id": "iI2F4V3uYvOR",
        "colab_type": "code",
        "colab": {}
      },
      "source": [
        "max_index=signal_peak_index+2"
      ],
      "execution_count": 0,
      "outputs": []
    },
    {
      "cell_type": "code",
      "metadata": {
        "id": "D86i-X_4ZHkm",
        "colab_type": "code",
        "colab": {}
      },
      "source": [
        "time_of_max=whiten.sample_times.data[max_index]"
      ],
      "execution_count": 0,
      "outputs": []
    },
    {
      "cell_type": "code",
      "metadata": {
        "id": "CqREyixvY9tm",
        "colab_type": "code",
        "outputId": "bf4badaf-639d-49c0-99ef-2537dad6bd0e",
        "colab": {
          "base_uri": "https://localhost:8080/",
          "height": 283
        }
      },
      "source": [
        "zoom = whiten.time_slice(time_of_max-0.8, time_of_max+0.2)\n",
        "pylab.plot(zoom.sample_times, zoom)"
      ],
      "execution_count": 0,
      "outputs": [
        {
          "output_type": "execute_result",
          "data": {
            "text/plain": [
              "[<matplotlib.lines.Line2D at 0x7f93ed63a358>]"
            ]
          },
          "metadata": {
            "tags": []
          },
          "execution_count": 57
        },
        {
          "output_type": "display_data",
          "data": {
            "image/png": "[encoded data removed]",
            "text/plain": [
              "<Figure size 432x288 with 1 Axes>"
            ]
          },
          "metadata": {
            "tags": [],
            "needs_background": "light"
          }
        }
      ]
    },
    {
      "cell_type": "code",
      "metadata": {
        "id": "o05dci5B78ek",
        "colab_type": "code",
        "colab": {}
      },
      "source": [
        "test=np.zeros((1, 8192))\n",
        "test=zoom.data"
      ],
      "execution_count": 0,
      "outputs": []
    },
    {
      "cell_type": "code",
      "metadata": {
        "id": "Qovwri1J8QXp",
        "colab_type": "code",
        "outputId": "7e74c371-53b3-445d-9aed-7c323942f8f2",
        "colab": {
          "base_uri": "https://localhost:8080/",
          "height": 52
        }
      },
      "source": [
        "test"
      ],
      "execution_count": 0,
      "outputs": [
        {
          "output_type": "execute_result",
          "data": {
            "text/plain": [
              "array([  36.33963647,  -62.74969946,   -2.70691959, ..., -127.63009389,\n",
              "         27.98497743,  -55.53891513])"
            ]
          },
          "metadata": {
            "tags": []
          },
          "execution_count": 65
        }
      ]
    },
    {
      "cell_type": "markdown",
      "metadata": {
        "id": "8KiNzUJAYSMN",
        "colab_type": "text"
      },
      "source": [
        "# LalSuite Inspinj"
      ]
    },
    {
      "cell_type": "markdown",
      "metadata": {
        "id": "uqRyDmvvd5IA",
        "colab_type": "text"
      },
      "source": [
        "# Rough"
      ]
    },
    {
      "cell_type": "code",
      "metadata": {
        "id": "Z18vf-fh2voK",
        "colab_type": "code",
        "colab": {}
      },
      "source": [
        "# %matplotlib inline\n",
        "# import pycbc.noise\n",
        "# import pycbc.psd\n",
        "# import pylab\n",
        "\n",
        "# # Generate a PSD using an analytic expression for \n",
        "# # the full design Advanced LIGO noise curve\n",
        "# f_lower = 10\n",
        "# duration = 128\n",
        "# sample_rate = 4096\n",
        "# tsamples = sample_rate * duration\n",
        "# fsamples = tsamples / 2 + 1\n",
        "# df = 1.0 / duration\n",
        "# psd = pycbc.psd.from_string('aLIGOZeroDetHighPower', fsamples, df, f_lower)\n",
        "\n",
        "# # Let's take a look at the spectrum\n",
        "# pylab.loglog(psd.sample_frequencies, psd)\n",
        "# pylab.xlim(20, 1024)\n",
        "# pylab.ylim(1e-48, 1e-45)\n",
        "# pylab.xlabel('Frequency (Hz)')\n",
        "# pylab.ylabel('Strain^2 / Hz')\n",
        "# pylab.grid()"
      ],
      "execution_count": 0,
      "outputs": []
    },
    {
      "cell_type": "code",
      "metadata": {
        "id": "yvZLesDCII_c",
        "colab_type": "code",
        "colab": {}
      },
      "source": [
        "# htilde = pycbc.noise.frequency_noise_from_psd(psd, seed=857)"
      ],
      "execution_count": 0,
      "outputs": []
    },
    {
      "cell_type": "code",
      "metadata": {
        "id": "c8A71h1ZIPRO",
        "colab_type": "code",
        "colab": {}
      },
      "source": [
        "# pylab.loglog(psd.sample_frequencies,np.abs(htilde)**2)\n",
        "# #pylab.loglog(psd.sample_frequencies,psd)\n",
        "# pylab.xlim(20, 1024)\n",
        "# #pylab.ylim(1e-48, 1e-45)\n",
        "# pylab.xlabel('Frequency (Hz)')\n",
        "# pylab.ylabel('Strain^2 / Hz')\n",
        "# pylab.grid()"
      ],
      "execution_count": 0,
      "outputs": []
    },
    {
      "cell_type": "code",
      "metadata": {
        "id": "YHyckP0_4o2A",
        "colab_type": "code",
        "outputId": "92d7f930-d62e-4501-f9c7-244ba12013ee",
        "colab": {
          "base_uri": "https://localhost:8080/",
          "height": 279
        }
      },
      "source": [
        "from pycbc.frame import read_frame\n",
        "from pycbc.filter import highpass_fir, matched_filter\n",
        "from pycbc.waveform import get_fd_waveform\n",
        "from pycbc.psd import welch, interpolate\n",
        "try:\n",
        "    from urllib.request import urlretrieve\n",
        "except ImportError:  # python < 3\n",
        "    from urllib import urlretrieve\n",
        "\n",
        "# Read data and remove low frequency content\n",
        "fname = 'H-H1_LOSC_4_V2-1126259446-32.gwf'\n",
        "url = \"https://www.gw-openscience.org/GW150914data/\" + fname\n",
        "urlretrieve(url, filename=fname)\n",
        "h1 = read_frame('H-H1_LOSC_4_V2-1126259446-32.gwf', 'H1:LOSC-STRAIN')\n",
        "h1 = highpass_fir(h1, 15, 8)\n",
        "\n",
        "# Calculate the noise spectrum\n",
        "psd = interpolate(welch(h1), 1.0 / h1.duration)\n",
        "\n",
        "# Generate a template to filter with\n",
        "hp, hc = get_fd_waveform(approximant=\"IMRPhenomD\", mass1=40, mass2=32,\n",
        "                         f_lower=20, delta_f=1.0/h1.duration)\n",
        "hp.resize(len(h1) // 2 + 1)\n",
        "\n",
        "# Calculate the complex (two-phase SNR)\n",
        "snr = matched_filter(hp, h1, psd=psd, low_frequency_cutoff=20.0)\n",
        "\n",
        "# Remove regions corrupted by filter wraparound\n",
        "snr = snr[len(snr) // 4: len(snr) * 3 // 4]\n",
        "\n",
        "import pylab\n",
        "pylab.plot(snr.sample_times, abs(snr))\n",
        "pylab.ylabel('signal-to-noise')\n",
        "pylab.xlabel('GPS Time (s)')\n",
        "pylab.show()\n"
      ],
      "execution_count": 0,
      "outputs": [
        {
          "output_type": "display_data",
          "data": {
            "image/png": "[encoded data removed]",
            "text/plain": [
              "<Figure size 432x288 with 1 Axes>"
            ]
          },
          "metadata": {
            "tags": [],
            "needs_background": "light"
          }
        }
      ]
    },
    {
      "cell_type": "code",
      "metadata": {
        "id": "VU4_e9ko4pWg",
        "colab_type": "code",
        "outputId": "6d42196c-a9d6-47ad-9c83-20d80ff2cf95",
        "colab": {
          "base_uri": "https://localhost:8080/",
          "height": 35
        }
      },
      "source": [
        "len(noise_time[i:i+length]), len(signal_h1)"
      ],
      "execution_count": 0,
      "outputs": [
        {
          "output_type": "execute_result",
          "data": {
            "text/plain": [
              "(30, 32834)"
            ]
          },
          "metadata": {
            "tags": []
          },
          "execution_count": 257
        }
      ]
    },
    {
      "cell_type": "code",
      "metadata": {
        "id": "CzNYJUi9UuiW",
        "colab_type": "code",
        "outputId": "70797fbd-1253-4d43-9f1d-0e19c56c618c",
        "colab": {
          "base_uri": "https://localhost:8080/",
          "height": 282
        }
      },
      "source": [
        "from pycbc.frame import read_frame\n",
        "from pycbc.filter import highpass_fir, matched_filter\n",
        "from pycbc.waveform import get_fd_waveform\n",
        "from pycbc.psd import welch, interpolate\n",
        "try:\n",
        "    from urllib.request import urlretrieve\n",
        "except ImportError:  # python < 3\n",
        "    from urllib import urlretrieve\n",
        "\n",
        "# Read data and remove low frequency content\n",
        "#url = \"https://www.gw-openscience.org/GW150914data/\" + fname\n",
        "#urlretrieve(url, filename=fname)\n",
        "h1 = signal_plus_noise\n",
        "#h1 = highpass_fir(h1, 15, 8)\n",
        "\n",
        "# Calculate the noise spectrum\n",
        "psd = interpolate(welch(h1), 1.0 / h1.duration)\n",
        "\n",
        "# Generate a template to filter with\n",
        "hp, hc = get_fd_waveform(approximant=\"IMRPhenomD\", mass1=40, mass2=32,\n",
        "                         f_lower=20, delta_f=1.0/h1.duration)\n",
        "hp.resize(len(h1) // 2 + 1)\n",
        "\n",
        "# Calculate the complex (two-phase SNR)\n",
        "snr = matched_filter(hp, h1, psd=psd, low_frequency_cutoff=20.0)\n",
        "\n",
        "# Remove regions corrupted by filter wraparound\n",
        "snr = snr[len(snr) // 4: len(snr) * 3 // 4]\n",
        "\n",
        "import pylab\n",
        "pylab.plot(snr.sample_times, abs(snr))\n",
        "pylab.ylabel('signal-to-noise')\n",
        "pylab.xlabel('GPS Time (s)')\n",
        "pylab.show()"
      ],
      "execution_count": 0,
      "outputs": [
        {
          "output_type": "display_data",
          "data": {
            "image/png": "[encoded data removed]",
            "text/plain": [
              "<Figure size 432x288 with 1 Axes>"
            ]
          },
          "metadata": {
            "tags": [],
            "needs_background": "light"
          }
        }
      ]
    },
    {
      "cell_type": "code",
      "metadata": {
        "id": "9kRya6zdsqIL",
        "colab_type": "code",
        "outputId": "bc7a6726-b4ae-4b8d-d530-c1203b2df393",
        "colab": {
          "base_uri": "https://localhost:8080/",
          "height": 35
        }
      },
      "source": [
        "signal_plus_noise"
      ],
      "execution_count": 0,
      "outputs": [
        {
          "output_type": "execute_result",
          "data": {
            "text/plain": [
              "<pycbc.types.timeseries.TimeSeries at 0x7f251252e978>"
            ]
          },
          "metadata": {
            "tags": []
          },
          "execution_count": 166
        }
      ]
    },
    {
      "cell_type": "code",
      "metadata": {
        "id": "O7f04EZEYys2",
        "colab_type": "code",
        "outputId": "c4c9d234-a977-486d-f52d-6105af54d2c6",
        "colab": {
          "base_uri": "https://localhost:8080/",
          "height": 279
        }
      },
      "source": [
        "from pycbc.frame import read_frame\n",
        "from pycbc.filter import highpass_fir, lowpass_fir\n",
        "from pycbc.filter.resample import resample_to_delta_t\n",
        "from pycbc.waveform import get_fd_waveform\n",
        "from pycbc.psd import welch, interpolate\n",
        "from pycbc.catalog import Merger\n",
        "import pylab\n",
        "\n",
        "for ifo in ['H1']:#, 'L1']:\n",
        "    # Read data and remove low frequency content\n",
        "    h1 = signal_plus_noise\n",
        "    #h1 = highpass_fir(h1, 15, 8)\n",
        "\n",
        "    # Calculate the noise spectrum\n",
        "    psd = interpolate(welch(h1), 1.0 / h1.duration)\n",
        "\n",
        "    # whiten\n",
        "    white_strain = (h1.to_frequencyseries() / psd ** 0.5).to_timeseries()\n",
        "\n",
        "    # remove some of the high and low\n",
        "    smooth = highpass_fir(white_strain, 35, 8)\n",
        "    smooth = lowpass_fir(white_strain, 300, 8)\n",
        "\n",
        "    # time shift and flip L1\n",
        "    if ifo == 'L1':\n",
        "        smooth *= -1\n",
        "        smooth.roll(int(.007 / smooth.delta_t))\n",
        "\n",
        "    #smooth = resample_to_delta_t(smooth, 128)\n",
        "    pylab.plot(smooth.sample_times, smooth, label=ifo)\n",
        "\n",
        "pylab.legend()\n",
        "pylab.xlim(18.5, 18.82)\n",
        "#pylab.ylim(-150, 150)\n",
        "pylab.ylabel('Smoothed-Whitened Strain')\n",
        "pylab.grid()\n",
        "pylab.xlabel('GPS Time (s)')\n",
        "pylab.show()\n"
      ],
      "execution_count": 0,
      "outputs": [
        {
          "output_type": "display_data",
          "data": {
            "image/png": "[encoded data removed]",
            "text/plain": [
              "<Figure size 432x288 with 1 Axes>"
            ]
          },
          "metadata": {
            "tags": [],
            "needs_background": "light"
          }
        }
      ]
    },
    {
      "cell_type": "code",
      "metadata": {
        "id": "hHH4Ua6RtARM",
        "colab_type": "code",
        "colab": {}
      },
      "source": [
        "low_freq_cutoff=0"
      ],
      "execution_count": 0,
      "outputs": []
    },
    {
      "cell_type": "code",
      "metadata": {
        "id": "nIgEojEntDcg",
        "colab_type": "code",
        "outputId": "629bc394-e33b-4330-e3b9-724169f59cce",
        "colab": {
          "base_uri": "https://localhost:8080/",
          "height": 52
        }
      },
      "source": [
        "psd1.data"
      ],
      "execution_count": 0,
      "outputs": [
        {
          "output_type": "execute_result",
          "data": {
            "text/plain": [
              "array([0.00000000e+00, 0.00000000e+00, 0.00000000e+00, ...,\n",
              "       3.19842845e-46, 3.19847879e-46, 0.00000000e+00])"
            ]
          },
          "metadata": {
            "tags": []
          },
          "execution_count": 190
        }
      ]
    },
    {
      "cell_type": "code",
      "metadata": {
        "id": "vGcg2a9BZDT8",
        "colab_type": "code",
        "outputId": "2ae8ea60-3960-4d9a-99b5-366fb6d61188",
        "colab": {
          "base_uri": "https://localhost:8080/",
          "height": 322
        }
      },
      "source": [
        "# pylab.plot(psd)\n",
        "psd1=aLIGODesignSensitivityP1200087(f_samples, delta_f, low_freq_cutoff)\n",
        "pylab.loglog(psd1.sample_frequencies, psd1)"
      ],
      "execution_count": 0,
      "outputs": [
        {
          "output_type": "stream",
          "text": [
            "/usr/local/lib/python3.6/dist-packages/pycbc/psd/analytical.py:103: RuntimeWarning: forcing length argument to int\n",
            "  warnings.warn('forcing length argument to int', RuntimeWarning)\n"
          ],
          "name": "stderr"
        },
        {
          "output_type": "execute_result",
          "data": {
            "text/plain": [
              "[<matplotlib.lines.Line2D at 0x7f251227f550>]"
            ]
          },
          "metadata": {
            "tags": []
          },
          "execution_count": 192
        },
        {
          "output_type": "display_data",
          "data": {
            "image/png": "[encoded data removed]",
            "text/plain": [
              "<Figure size 432x288 with 1 Axes>"
            ]
          },
          "metadata": {
            "tags": [],
            "needs_background": "light"
          }
        }
      ]
    },
    {
      "cell_type": "code",
      "metadata": {
        "id": "z34pP17wZk5C",
        "colab_type": "code",
        "outputId": "a56641b1-4979-4f06-a566-067b46f4a118",
        "colab": {
          "base_uri": "https://localhost:8080/",
          "height": 53
        }
      },
      "source": [
        "psd.data"
      ],
      "execution_count": 0,
      "outputs": [
        {
          "output_type": "execute_result",
          "data": {
            "text/plain": [
              "array([1.00179332e-53, 1.02660359e-53, 1.05141385e-53, ...,\n",
              "       1.53145821e-46, 1.49505214e-46, 1.45864607e-46])"
            ]
          },
          "metadata": {
            "tags": []
          },
          "execution_count": 211
        }
      ]
    },
    {
      "cell_type": "code",
      "metadata": {
        "id": "xYLOvpizesr5",
        "colab_type": "code",
        "colab": {}
      },
      "source": [
        ""
      ],
      "execution_count": 0,
      "outputs": []
    },
    {
      "cell_type": "code",
      "metadata": {
        "id": "U8Atqbb2tBNQ",
        "colab_type": "code",
        "outputId": "5aadaf40-2b74-4649-8b22-2c6990e61ba8",
        "colab": {
          "base_uri": "https://localhost:8080/",
          "height": 325
        }
      },
      "source": [
        "pylab.loglog(psd.sample_frequencies, psd)\n",
        "pylab.loglog(psd.sample_frequencies, final_frequencies)\n",
        "pylab.xlim(20, 1024)\n",
        "pylab.ylim(1e-48, 1e-45)\n",
        "pylab.xlabel('Frequency (Hz)')\n",
        "pylab.ylabel('Strain^2 / Hz')\n",
        "pylab.grid()"
      ],
      "execution_count": 0,
      "outputs": [
        {
          "output_type": "stream",
          "text": [
            "/usr/local/lib/python3.6/dist-packages/numpy/core/_asarray.py:85: ComplexWarning: Casting complex values to real discards the imaginary part\n",
            "  return array(a, dtype, copy=False, order=order)\n"
          ],
          "name": "stderr"
        },
        {
          "output_type": "display_data",
          "data": {
            "image/png": "[encoded data removed]",
            "text/plain": [
              "<Figure size 432x288 with 1 Axes>"
            ]
          },
          "metadata": {
            "tags": [],
            "needs_background": "light"
          }
        }
      ]
    }
  ]
}