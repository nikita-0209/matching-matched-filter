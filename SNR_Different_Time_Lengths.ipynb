{
  "nbformat": 4,
  "nbformat_minor": 0,
  "metadata": {
    "colab": {
      "name": "SNR: Different Time Lengths.ipynb",
      "provenance": [],
      "authorship_tag": "ABX9TyOMzoF9cE+tOLk0zRpHM2vz"
    },
    "kernelspec": {
      "name": "python3",
      "display_name": "Python 3"
    }
  },
  "cells": [
    {
      "cell_type": "code",
      "metadata": {
        "id": "VqsXtcZIiz7m",
        "colab_type": "code",
        "outputId": "35e5bde4-ccd7-4284-fc34-80adfece6e68",
        "colab": {
          "base_uri": "https://localhost:8080/",
          "height": 35
        }
      },
      "source": [
        "from google.colab import drive\n",
        "drive.mount('/content/drive')"
      ],
      "execution_count": 0,
      "outputs": [
        {
          "output_type": "stream",
          "text": [
            "Drive already mounted at /content/drive; to attempt to forcibly remount, call drive.mount(\"/content/drive\", force_remount=True).\n"
          ],
          "name": "stdout"
        }
      ]
    },
    {
      "cell_type": "code",
      "metadata": {
        "id": "5-bFdC0li8U5",
        "colab_type": "code",
        "colab": {}
      },
      "source": [
        "import numpy as np"
      ],
      "execution_count": 0,
      "outputs": []
    },
    {
      "cell_type": "code",
      "metadata": {
        "id": "_OUwdDNji-J2",
        "colab_type": "code",
        "colab": {}
      },
      "source": [
        "import pandas as pd"
      ],
      "execution_count": 0,
      "outputs": []
    },
    {
      "cell_type": "code",
      "metadata": {
        "id": "64Re9dUnjJPP",
        "colab_type": "code",
        "outputId": "6595ff89-e1ac-4136-9011-49791c4cfef4",
        "colab": {
          "base_uri": "https://localhost:8080/",
          "height": 639
        }
      },
      "source": [
        "# import sys\n",
        "# !{sys.executable} -m pip install pycbc lalsuite ligo-common --no-cache-dir"
      ],
      "execution_count": 0,
      "outputs": [
        {
          "output_type": "stream",
          "text": [
            "Requirement already satisfied: pycbc in /usr/local/lib/python3.6/dist-packages (1.16.1)\n",
            "Requirement already satisfied: lalsuite in /usr/local/lib/python3.6/dist-packages (6.70)\n",
            "Requirement already satisfied: ligo-common in /usr/local/lib/python3.6/dist-packages (1.0.3)\n",
            "Requirement already satisfied: beautifulsoup4>=4.6.0 in /usr/local/lib/python3.6/dist-packages (from pycbc) (4.6.3)\n",
            "Requirement already satisfied: numpy>=1.16.0 in /usr/local/lib/python3.6/dist-packages (from pycbc) (1.18.4)\n",
            "Requirement already satisfied: h5py>=2.5 in /usr/local/lib/python3.6/dist-packages (from pycbc) (2.10.0)\n",
            "Requirement already satisfied: scipy>=0.16.0; python_version >= \"3.5\" in /usr/local/lib/python3.6/dist-packages (from pycbc) (1.4.1)\n",
            "Requirement already satisfied: mpld3>=0.3 in /usr/local/lib/python3.6/dist-packages (from pycbc) (0.3)\n",
            "Requirement already satisfied: six>=1.10.0 in /usr/local/lib/python3.6/dist-packages (from pycbc) (1.12.0)\n",
            "Requirement already satisfied: emcee==2.2.1 in /usr/local/lib/python3.6/dist-packages (from pycbc) (2.2.1)\n",
            "Requirement already satisfied: decorator>=3.4.2 in /usr/local/lib/python3.6/dist-packages (from pycbc) (4.4.2)\n",
            "Requirement already satisfied: jinja2 in /usr/local/lib/python3.6/dist-packages (from pycbc) (2.11.2)\n",
            "Requirement already satisfied: tqdm in /usr/local/lib/python3.6/dist-packages (from pycbc) (4.41.1)\n",
            "Requirement already satisfied: cython>=0.29 in /usr/local/lib/python3.6/dist-packages (from pycbc) (0.29.18)\n",
            "Requirement already satisfied: gwdatafind in /usr/local/lib/python3.6/dist-packages (from pycbc) (1.0.4)\n",
            "Requirement already satisfied: astropy>=2.0.3; python_version > \"3.0\" in /usr/local/lib/python3.6/dist-packages (from pycbc) (4.0.1.post1)\n",
            "Requirement already satisfied: lscsoft-glue>=1.59.3 in /usr/local/lib/python3.6/dist-packages (from pycbc) (2.0.0)\n",
            "Requirement already satisfied: Mako>=1.0.1 in /usr/local/lib/python3.6/dist-packages (from pycbc) (1.1.3)\n",
            "Requirement already satisfied: requests>=1.2.1 in /usr/local/lib/python3.6/dist-packages (from pycbc) (2.23.0)\n",
            "Requirement already satisfied: pillow in /usr/local/lib/python3.6/dist-packages (from pycbc) (7.0.0)\n",
            "Requirement already satisfied: ligo-segments in /usr/local/lib/python3.6/dist-packages (from pycbc) (1.2.0)\n",
            "Requirement already satisfied: matplotlib>=1.5.1 in /usr/local/lib/python3.6/dist-packages (from pycbc) (3.2.1)\n",
            "Requirement already satisfied: python-dateutil in /usr/local/lib/python3.6/dist-packages (from lalsuite) (2.8.1)\n",
            "Requirement already satisfied: MarkupSafe>=0.23 in /usr/local/lib/python3.6/dist-packages (from jinja2->pycbc) (1.1.1)\n",
            "Requirement already satisfied: pyOpenSSL in /usr/local/lib/python3.6/dist-packages (from gwdatafind->pycbc) (19.1.0)\n",
            "Requirement already satisfied: certifi>=2017.4.17 in /usr/local/lib/python3.6/dist-packages (from requests>=1.2.1->pycbc) (2020.4.5.1)\n",
            "Requirement already satisfied: idna<3,>=2.5 in /usr/local/lib/python3.6/dist-packages (from requests>=1.2.1->pycbc) (2.9)\n",
            "Requirement already satisfied: chardet<4,>=3.0.2 in /usr/local/lib/python3.6/dist-packages (from requests>=1.2.1->pycbc) (3.0.4)\n",
            "Requirement already satisfied: urllib3!=1.25.0,!=1.25.1,<1.26,>=1.21.1 in /usr/local/lib/python3.6/dist-packages (from requests>=1.2.1->pycbc) (1.24.3)\n",
            "Requirement already satisfied: kiwisolver>=1.0.1 in /usr/local/lib/python3.6/dist-packages (from matplotlib>=1.5.1->pycbc) (1.2.0)\n",
            "Requirement already satisfied: pyparsing!=2.0.4,!=2.1.2,!=2.1.6,>=2.0.1 in /usr/local/lib/python3.6/dist-packages (from matplotlib>=1.5.1->pycbc) (2.4.7)\n",
            "Requirement already satisfied: cycler>=0.10 in /usr/local/lib/python3.6/dist-packages (from matplotlib>=1.5.1->pycbc) (0.10.0)\n",
            "Requirement already satisfied: cryptography>=2.8 in /usr/local/lib/python3.6/dist-packages (from pyOpenSSL->gwdatafind->pycbc) (2.9.2)\n",
            "Requirement already satisfied: cffi!=1.11.3,>=1.8 in /usr/local/lib/python3.6/dist-packages (from cryptography>=2.8->pyOpenSSL->gwdatafind->pycbc) (1.14.0)\n",
            "Requirement already satisfied: pycparser in /usr/local/lib/python3.6/dist-packages (from cffi!=1.11.3,>=1.8->cryptography>=2.8->pyOpenSSL->gwdatafind->pycbc) (2.20)\n"
          ],
          "name": "stdout"
        }
      ]
    },
    {
      "cell_type": "code",
      "metadata": {
        "id": "a8qCnL1QGvAS",
        "colab_type": "code",
        "colab": {}
      },
      "source": [
        "import pylab\n",
        "import pycbc"
      ],
      "execution_count": 0,
      "outputs": []
    },
    {
      "cell_type": "code",
      "metadata": {
        "id": "VZ5EeKevW07M",
        "colab_type": "code",
        "colab": {}
      },
      "source": [
        "from pycbc.filter import matched_filter"
      ],
      "execution_count": 0,
      "outputs": []
    },
    {
      "cell_type": "code",
      "metadata": {
        "id": "DHSVAOiQBR_O",
        "colab_type": "code",
        "colab": {}
      },
      "source": [
        "from pycbc.psd.analytical import AdVDesignSensitivityP1200087"
      ],
      "execution_count": 0,
      "outputs": []
    },
    {
      "cell_type": "code",
      "metadata": {
        "id": "g8SR3cKjG1QZ",
        "colab_type": "code",
        "colab": {}
      },
      "source": [
        "signal_data=pd.read_excel('/content/drive/My Drive/Matching Matched Filtering/injection_data.xlsx', names=['mass1', 'mass2', 'luminosity_distance', 'dec', 'ra', 'theta_jn', 'psi', 'phase', 'geocent_time'] )"
      ],
      "execution_count": 0,
      "outputs": []
    },
    {
      "cell_type": "code",
      "metadata": {
        "id": "n6rZ97YSHE20",
        "colab_type": "code",
        "colab": {}
      },
      "source": [
        "distance_data=pd.read_excel('/content/drive/My Drive/Matching Matched Filtering/distance_injections.xlsx', names=['distance', 'SNR'] )"
      ],
      "execution_count": 0,
      "outputs": []
    },
    {
      "cell_type": "code",
      "metadata": {
        "id": "-WUOmDDuMo7z",
        "colab_type": "code",
        "colab": {}
      },
      "source": [
        "def get_data(data, dist):\n",
        "    m1=data['mass1']\n",
        "    m2=data['mass2']\n",
        "    dec=data['dec']\n",
        "    ra=data['ra']\n",
        "    inclination=data['theta_jn']\n",
        "    coa_phase=data['phase']\n",
        "    pol_angle=data['psi']\n",
        "    distance=dist['distance']\n",
        "    return m1, m2, dec, ra, inclination, coa_phase, pol_angle, distance"
      ],
      "execution_count": 0,
      "outputs": []
    },
    {
      "cell_type": "code",
      "metadata": {
        "id": "OUbAByU6Mqcg",
        "colab_type": "code",
        "colab": {}
      },
      "source": [
        "from pycbc.waveform import get_td_waveform\n",
        "from pycbc.detector import Detector\n",
        "\n",
        "def get_signal(m1, m2, dec, ra, inclination, coa_phase, pol_angle, distance, delta_t, f_lower):\n",
        "  apx = 'IMRPhenomD'\n",
        "  hp, hc = get_td_waveform(approximant=apx,\n",
        "                                 mass1=m1,\n",
        "                                 mass2=m2,\n",
        "                                 spin1z=0,\n",
        "                                 delta_t=delta_t,\n",
        "                                 distance=distance,\n",
        "                                 inclination = inclination,\n",
        "                                 coa_phase =  coa_phase,\n",
        "                                 f_lower=f_lower)\n",
        "  \n",
        "  det_h1 = Detector('H1')\n",
        "  signal = det_h1.project_wave(hp, hc, ra, dec, pol_angle)\n",
        "  signal_peak_index=np.argmax(signal)\n",
        "\n",
        "  return signal, signal_peak_index\n"
      ],
      "execution_count": 0,
      "outputs": []
    },
    {
      "cell_type": "code",
      "metadata": {
        "id": "osUGz7jSLf5Q",
        "colab_type": "code",
        "colab": {}
      },
      "source": [
        "def get_zoom(whiten, duration, signal_peak_index=None):\n",
        "  \n",
        "  if signal_peak_index==None:\n",
        "    zoom=whiten.time_slice(0,1)\n",
        "    return zoom\n",
        "    # return zoom.data.reshape((8192, 1))\n",
        "\n",
        "  max_index=signal_peak_index+2\n",
        "  time_of_max=whiten.sample_times.data[max_index]\n",
        "  start=duration-0.25\n",
        "  end=duration-0.05\n",
        "  instant=random.uniform(start, end)\n",
        "  zoom = whiten.time_slice(time_of_max-instant, time_of_max+duration-instant)\n",
        "  # # print (time_of_max)\n",
        "  # if time_of_max>0.8:\n",
        "    \n",
        "  # elif time_of_max>0.6:\n",
        "  #   zoom = whiten.time_slice(time_of_max-0.6, time_of_max+0.4)\n",
        "  # return zoom.data.reshape((8192, 1))\n",
        "  return zoom"
      ],
      "execution_count": 0,
      "outputs": []
    },
    {
      "cell_type": "code",
      "metadata": {
        "id": "W6pbc4dXOoc1",
        "colab_type": "code",
        "colab": {}
      },
      "source": [
        "import random"
      ],
      "execution_count": 0,
      "outputs": []
    },
    {
      "cell_type": "code",
      "metadata": {
        "id": "xB_AhTFl6nim",
        "colab_type": "code",
        "colab": {}
      },
      "source": [
        "from pycbc import filter"
      ],
      "execution_count": 0,
      "outputs": []
    },
    {
      "cell_type": "code",
      "metadata": {
        "id": "lhxR2ihpM4K3",
        "colab_type": "code",
        "colab": {}
      },
      "source": [
        "index=3\n",
        "m1, m2, dec, ra, inclination, coa_phase, pol_angle, distance=get_data(signal_data.loc[index], distance_data.loc[index])"
      ],
      "execution_count": 0,
      "outputs": []
    },
    {
      "cell_type": "code",
      "metadata": {
        "id": "4N0VdPPnM7w4",
        "colab_type": "code",
        "outputId": "27cd8b8a-234c-47ea-f387-08a5b1966aa9",
        "colab": {
          "base_uri": "https://localhost:8080/",
          "height": 35
        }
      },
      "source": [
        "m1, m2, "
      ],
      "execution_count": 0,
      "outputs": [
        {
          "output_type": "execute_result",
          "data": {
            "text/plain": [
              "(59.6160367922944, 32.9122657527105)"
            ]
          },
          "metadata": {
            "tags": []
          },
          "execution_count": 175
        }
      ]
    },
    {
      "cell_type": "code",
      "metadata": {
        "id": "pB8JBgGsWsA5",
        "colab_type": "code",
        "outputId": "68f220da-c834-4cfd-b2d5-b7fcbae7ed59",
        "colab": {
          "base_uri": "https://localhost:8080/",
          "height": 52
        }
      },
      "source": [
        "durations=[1, 1.5]\n",
        "for i in range(len(durations)):\n",
        "  signal, signal_peak_index=get_signal(m1, m2, dec, ra, inclination, coa_phase, pol_angle, distance, delta_t, f_lower)\n",
        "  zoom=get_zoom(signal, durations[i], signal_peak_index)\n",
        "  tlen = len(zoom)\n",
        "  delta_f = 1.0 / zoom.duration\n",
        "  flen = tlen//2 + 1\n",
        "  psd=get_psd(flen, delta_f, f_lower)\n",
        "  SNR=filter.matchedfilter.sigma(zoom, psd, low_frequency_cutoff=20)\n",
        "  print ('For duration {}s, the SNR is {}'.format(durations[i], SNR))"
      ],
      "execution_count": 0,
      "outputs": [
        {
          "output_type": "stream",
          "text": [
            "For duration 1s, the SNR is 5.47580649834128\n",
            "For duration 1.5s, the SNR is 5.4752132911939775\n"
          ],
          "name": "stdout"
        }
      ]
    },
    {
      "cell_type": "code",
      "metadata": {
        "id": "McT5U5RNBjF6",
        "colab_type": "code",
        "colab": {}
      },
      "source": [
        "index=8\n",
        "m1, m2, dec, ra, inclination, coa_phase, pol_angle, distance=get_data(signal_data.loc[index], distance_data.loc[index])"
      ],
      "execution_count": 0,
      "outputs": []
    },
    {
      "cell_type": "code",
      "metadata": {
        "id": "fUleyLoHOmR1",
        "colab_type": "code",
        "outputId": "401c7e96-77ef-4d0b-92a8-6c8f69d28f8d",
        "colab": {
          "base_uri": "https://localhost:8080/",
          "height": 35
        }
      },
      "source": [
        "print (m1, m2)"
      ],
      "execution_count": 0,
      "outputs": [
        {
          "output_type": "stream",
          "text": [
            "33.2609619125822 8.60142202031759\n"
          ],
          "name": "stdout"
        }
      ]
    },
    {
      "cell_type": "code",
      "metadata": {
        "id": "wHN8X5OU-XFf",
        "colab_type": "code",
        "outputId": "a73fd2b8-507b-45b2-ee6e-313dc52d9250",
        "colab": {
          "base_uri": "https://localhost:8080/",
          "height": 88
        }
      },
      "source": [
        "durations=[1, 2, 4, 6]\n",
        "for i in range(len(durations)):\n",
        "  signal, signal_peak_index=get_signal(m1, m2, dec, ra, inclination, coa_phase, pol_angle, distance, delta_t, f_lower)\n",
        "  zoom=get_zoom(signal, durations[i], signal_peak_index)\n",
        "  tlen = len(zoom)\n",
        "  delta_f = 1.0 / zoom.duration\n",
        "  flen = tlen//2 + 1\n",
        "  psd=get_psd(flen, delta_f, f_lower)\n",
        "  SNR=filter.matchedfilter.sigma(zoom, psd, low_frequency_cutoff=20)\n",
        "  print ('For duration {}s, the SNR is {}'.format(durations[i], SNR))\n"
      ],
      "execution_count": 0,
      "outputs": [
        {
          "output_type": "stream",
          "text": [
            "For duration 1s, the SNR is 5.118218829022667\n",
            "For duration 2s, the SNR is 5.194376952716649\n",
            "For duration 4s, the SNR is 5.200192704569924\n",
            "For duration 6s, the SNR is 5.199993274240364\n"
          ],
          "name": "stdout"
        }
      ]
    },
    {
      "cell_type": "code",
      "metadata": {
        "id": "KEsGg8AdLXvf",
        "colab_type": "code",
        "outputId": "c0cd5655-74db-47b3-88e7-4452c97bd3de",
        "colab": {
          "base_uri": "https://localhost:8080/",
          "height": 294
        }
      },
      "source": [
        "pylab.plot(signal.sample_times, signal)"
      ],
      "execution_count": 0,
      "outputs": [
        {
          "output_type": "execute_result",
          "data": {
            "text/plain": [
              "[<matplotlib.lines.Line2D at 0x7fa062973668>]"
            ]
          },
          "metadata": {
            "tags": []
          },
          "execution_count": 153
        },
        {
          "output_type": "display_data",
          "data": {
            "image/png": "[encoded data removed]",
            "text/plain": [
              "<Figure size 432x288 with 1 Axes>"
            ]
          },
          "metadata": {
            "tags": [],
            "needs_background": "light"
          }
        }
      ]
    }
  ]
}