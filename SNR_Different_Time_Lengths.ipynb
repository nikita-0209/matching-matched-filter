{
 "cells": [
  {
   "cell_type": "code",
   "execution_count": null,
   "metadata": {
    "colab": {
     "base_uri": "https://localhost:8080/",
     "height": 35
    },
    "colab_type": "code",
    "id": "VqsXtcZIiz7m",
    "outputId": "35e5bde4-ccd7-4284-fc34-80adfece6e68"
   },
   "outputs": [],
   "source": [
    "#from google.colab import drive\n",
    "#drive.mount('/content/drive')"
   ]
  },
  {
   "cell_type": "code",
   "execution_count": null,
   "metadata": {
    "colab": {},
    "colab_type": "code",
    "id": "5-bFdC0li8U5"
   },
   "outputs": [],
   "source": [
    "import numpy as np"
   ]
  },
  {
   "cell_type": "code",
   "execution_count": null,
   "metadata": {
    "colab": {},
    "colab_type": "code",
    "id": "_OUwdDNji-J2"
   },
   "outputs": [],
   "source": [
    "import pandas as pd"
   ]
  },
  {
   "cell_type": "code",
   "execution_count": null,
   "metadata": {
    "colab": {
     "base_uri": "https://localhost:8080/",
     "height": 639
    },
    "colab_type": "code",
    "id": "64Re9dUnjJPP",
    "outputId": "6595ff89-e1ac-4136-9011-49791c4cfef4"
   },
   "outputs": [],
   "source": [
    "# import sys\n",
    "# !{sys.executable} -m pip install pycbc lalsuite ligo-common --no-cache-dir"
   ]
  },
  {
   "cell_type": "code",
   "execution_count": null,
   "metadata": {
    "colab": {},
    "colab_type": "code",
    "id": "a8qCnL1QGvAS"
   },
   "outputs": [],
   "source": [
    "import pylab\n",
    "import pycbc"
   ]
  },
  {
   "cell_type": "code",
   "execution_count": null,
   "metadata": {
    "colab": {},
    "colab_type": "code",
    "id": "VZ5EeKevW07M"
   },
   "outputs": [],
   "source": [
    "from pycbc.filter import matched_filter"
   ]
  },
  {
   "cell_type": "code",
   "execution_count": null,
   "metadata": {
    "colab": {},
    "colab_type": "code",
    "id": "DHSVAOiQBR_O"
   },
   "outputs": [],
   "source": [
    "from pycbc.psd.analytical import AdVDesignSensitivityP1200087, aLIGOZeroDetLowPower"
   ]
  },
  {
   "cell_type": "code",
   "execution_count": null,
   "metadata": {
    "colab": {},
    "colab_type": "code",
    "id": "g8SR3cKjG1QZ"
   },
   "outputs": [],
   "source": [
    "signal_data=pd.read_excel('data/injection_data.xlsx', names=['mass1', 'mass2', 'luminosity_distance', 'dec', 'ra', 'theta_jn', 'psi', 'phase', 'geocent_time'] )"
   ]
  },
  {
   "cell_type": "code",
   "execution_count": null,
   "metadata": {
    "colab": {},
    "colab_type": "code",
    "id": "n6rZ97YSHE20"
   },
   "outputs": [],
   "source": [
    "distance_data=pd.read_excel('data/distance_injections.xlsx', names=['distance', 'SNR'] )"
   ]
  },
  {
   "cell_type": "code",
   "execution_count": null,
   "metadata": {
    "colab": {},
    "colab_type": "code",
    "id": "-WUOmDDuMo7z"
   },
   "outputs": [],
   "source": [
    "def get_data(data, dist):\n",
    "    m1=data['mass1']\n",
    "    m2=data['mass2']\n",
    "    dec=data['dec']\n",
    "    ra=data['ra']\n",
    "    inclination=data['theta_jn']\n",
    "    coa_phase=data['phase']\n",
    "    pol_angle=data['psi']\n",
    "    distance=dist['distance']\n",
    "    return m1, m2, dec, ra, inclination, coa_phase, pol_angle, distance"
   ]
  },
  {
   "cell_type": "code",
   "execution_count": null,
   "metadata": {
    "colab": {},
    "colab_type": "code",
    "id": "OUbAByU6Mqcg"
   },
   "outputs": [],
   "source": [
    "from pycbc.waveform import get_td_waveform\n",
    "from pycbc.detector import Detector\n",
    "\n",
    "def get_signal(m1, m2, dec, ra, inclination, coa_phase, pol_angle, distance, delta_t, f_lower):\n",
    "  apx = 'IMRPhenomD'\n",
    "  hp, hc = get_td_waveform(approximant=apx,\n",
    "                                 mass1=m1,\n",
    "                                 mass2=m2,\n",
    "                                 spin1z=0,\n",
    "                                 delta_t=delta_t,\n",
    "                                 distance=distance,\n",
    "                                 inclination = inclination,\n",
    "                                 coa_phase =  coa_phase,\n",
    "                                 f_lower=f_lower)\n",
    "  \n",
    "  det_h1 = Detector('H1')\n",
    "  signal = det_h1.project_wave(hp, hc, ra, dec, pol_angle)\n",
    "  signal_peak_index=np.argmax(signal)\n",
    "\n",
    "  return signal, signal_peak_index\n"
   ]
  },
  {
   "cell_type": "code",
   "execution_count": null,
   "metadata": {
    "colab": {},
    "colab_type": "code",
    "id": "osUGz7jSLf5Q"
   },
   "outputs": [],
   "source": [
    "def get_zoom(whiten, duration, signal_peak_index=None):\n",
    "  \n",
    "  if signal_peak_index==None:\n",
    "    zoom=whiten.time_slice(0,1)\n",
    "    return zoom\n",
    "    # return zoom.data.reshape((8192, 1))\n",
    "\n",
    "  max_index=signal_peak_index+2\n",
    "  time_of_max=whiten.sample_times.data[max_index]\n",
    "  start=duration-0.25\n",
    "  end=duration-0.05\n",
    "  instant=random.uniform(start, end)\n",
    "  zoom = whiten.time_slice(time_of_max-instant, time_of_max+duration-instant)\n",
    "  # # print (time_of_max)\n",
    "  # if time_of_max>0.8:\n",
    "    \n",
    "  # elif time_of_max>0.6:\n",
    "  #   zoom = whiten.time_slice(time_of_max-0.6, time_of_max+0.4)\n",
    "  # return zoom.data.reshape((8192, 1))\n",
    "  return zoom"
   ]
  },
  {
   "cell_type": "code",
   "execution_count": null,
   "metadata": {
    "colab": {},
    "colab_type": "code",
    "id": "W6pbc4dXOoc1"
   },
   "outputs": [],
   "source": [
    "import random"
   ]
  },
  {
   "cell_type": "code",
   "execution_count": null,
   "metadata": {
    "colab": {},
    "colab_type": "code",
    "id": "xB_AhTFl6nim"
   },
   "outputs": [],
   "source": [
    "from pycbc import filter"
   ]
  },
  {
   "cell_type": "code",
   "execution_count": null,
   "metadata": {
    "colab": {},
    "colab_type": "code",
    "id": "lhxR2ihpM4K3"
   },
   "outputs": [],
   "source": [
    "index=3\n",
    "m1, m2, dec, ra, inclination, coa_phase, pol_angle, distance=get_data(signal_data.loc[index], distance_data.loc[index])\n",
    "m1, m2, "
   ]
  },
  {
   "cell_type": "code",
   "execution_count": null,
   "metadata": {
    "colab": {
     "base_uri": "https://localhost:8080/",
     "height": 35
    },
    "colab_type": "code",
    "id": "4N0VdPPnM7w4",
    "outputId": "27cd8b8a-234c-47ea-f387-08a5b1966aa9"
   },
   "outputs": [],
   "source": [
    "delta_t = 1/8192\n",
    "f_lower = 20"
   ]
  },
  {
   "cell_type": "code",
   "execution_count": null,
   "metadata": {
    "colab": {
     "base_uri": "https://localhost:8080/",
     "height": 52
    },
    "colab_type": "code",
    "id": "pB8JBgGsWsA5",
    "outputId": "68f220da-c834-4cfd-b2d5-b7fcbae7ed59"
   },
   "outputs": [],
   "source": [
    "durations=[1, 1.5]\n",
    "for i in range(len(durations)):\n",
    "  signal, signal_peak_index=get_signal(m1, m2, dec, ra, inclination, coa_phase, pol_angle, distance, delta_t, f_lower)\n",
    "  zoom=get_zoom(signal, durations[i], signal_peak_index)\n",
    "  tlen = len(zoom)\n",
    "  delta_f = 1.0 / zoom.duration\n",
    "  flen = tlen//2 + 1\n",
    "  psd=aLIGOZeroDetLowPower(flen, delta_f, f_lower)\n",
    "  SNR=filter.matchedfilter.sigma(zoom, psd, low_frequency_cutoff=20)\n",
    "  print ('For duration {}s, the SNR is {}'.format(durations[i], SNR))"
   ]
  },
  {
   "cell_type": "code",
   "execution_count": null,
   "metadata": {
    "colab": {},
    "colab_type": "code",
    "id": "McT5U5RNBjF6"
   },
   "outputs": [],
   "source": [
    "index=8\n",
    "m1, m2, dec, ra, inclination, coa_phase, pol_angle, distance=get_data(signal_data.loc[index], distance_data.loc[index])"
   ]
  },
  {
   "cell_type": "code",
   "execution_count": null,
   "metadata": {
    "colab": {
     "base_uri": "https://localhost:8080/",
     "height": 35
    },
    "colab_type": "code",
    "id": "fUleyLoHOmR1",
    "outputId": "401c7e96-77ef-4d0b-92a8-6c8f69d28f8d"
   },
   "outputs": [],
   "source": [
    "print (m1, m2)"
   ]
  },
  {
   "cell_type": "code",
   "execution_count": null,
   "metadata": {
    "colab": {
     "base_uri": "https://localhost:8080/",
     "height": 88
    },
    "colab_type": "code",
    "id": "wHN8X5OU-XFf",
    "outputId": "a73fd2b8-507b-45b2-ee6e-313dc52d9250"
   },
   "outputs": [],
   "source": [
    "durations=[1, 2, 4, 6]\n",
    "for i in range(len(durations)):\n",
    "  signal, signal_peak_index=get_signal(m1, m2, dec, ra, inclination, coa_phase, pol_angle, distance, delta_t, f_lower)\n",
    "  zoom=get_zoom(signal, durations[i], signal_peak_index)\n",
    "  tlen = len(zoom)\n",
    "  delta_f = 1.0 / zoom.duration\n",
    "  flen = tlen//2 + 1\n",
    "  psd=aLIGOZeroDetLowPower(flen, delta_f, f_lower)\n",
    "  SNR=filter.matchedfilter.sigma(zoom, psd, low_frequency_cutoff=20)\n",
    "  print ('For duration {}s, the SNR is {}'.format(durations[i], SNR))\n"
   ]
  },
  {
   "cell_type": "code",
   "execution_count": null,
   "metadata": {
    "colab": {
     "base_uri": "https://localhost:8080/",
     "height": 294
    },
    "colab_type": "code",
    "id": "KEsGg8AdLXvf",
    "outputId": "c0cd5655-74db-47b3-88e7-4452c97bd3de"
   },
   "outputs": [],
   "source": [
    "pylab.plot(signal.sample_times, signal)"
   ]
  }
 ],
 "metadata": {
  "colab": {
   "authorship_tag": "ABX9TyOMzoF9cE+tOLk0zRpHM2vz",
   "name": "SNR: Different Time Lengths.ipynb",
   "provenance": []
  },
  "kernelspec": {
   "display_name": "Python 3",
   "language": "python",
   "name": "python3"
  },
  "language_info": {
   "codemirror_mode": {
    "name": "ipython",
    "version": 3
   },
   "file_extension": ".py",
   "mimetype": "text/x-python",
   "name": "python",
   "nbconvert_exporter": "python",
   "pygments_lexer": "ipython3",
   "version": "3.6.8"
  }
 },
 "nbformat": 4,
 "nbformat_minor": 4
}
